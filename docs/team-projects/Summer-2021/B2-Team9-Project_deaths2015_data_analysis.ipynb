{
 "cells": [
  {
   "cell_type": "markdown",
   "metadata": {
    "id": "RVoWna3Z-S7b"
   },
   "source": [
    "# **Analysing the mortality rates for 2015 across US**"
   ]
  },
  {
   "cell_type": "markdown",
   "metadata": {
    "id": "ppI3KQjA-qlO"
   },
   "source": [
    "## **Problem:** \n",
    "The goal of this project is to look at deaths in the US and the correlations between the descriptive statistics and mortality. Examples of questions we will answer and visualize include:\n",
    "\n",
    "Grouping the deaths by age and analyzing similarities within those groups\n",
    "\n",
    "* Grouping the number of deaths by age and analyzing similarities within those groups\n",
    "* Additional potential groupings by gender, education, time of year, and manner of death\n",
    "* Using various types of data columns to visualize most frequent causes of death across the US\n"
   ]
  },
  {
   "cell_type": "markdown",
   "metadata": {
    "id": "pi-9YMb1_1aX"
   },
   "source": [
    "## **Data sources:**\n",
    "This dataset was found on Kaggle and is created by the CDC\n",
    "* Kaggle https://www.kaggle.com/cdc/mortality?select=2015_data.csv\n",
    "* CDC https://www.cdc.gov/nchs/nvss/mortality_public_use_data.html"
   ]
  },
  {
   "cell_type": "markdown",
   "metadata": {
    "id": "eQngclks8Nfd"
   },
   "source": [
    "## **Why this data set?**\n",
    "\n",
    "The reason for analyzing any data set is to gain a deeper understanding of what the data represents. A story can be told from a data set and this one provides interesting insights into the US population. Mortalities (deaths) can tell us so much about a population if there is proper recordings of the facts of both the people and the situations around their deaths. From this data many relationships between features are looked into to try and understand who is dying and what groups of people can be made.\n",
    "\n",
    "An example of a relationship that provides an interesting story is looking at education levels and seeing if there is a correlation between education and the age at which someone dies."
   ]
  },
  {
   "cell_type": "markdown",
   "metadata": {
    "id": "RphuHYkECIyD"
   },
   "source": [
    "## **Exploratory Phase of our Project on mortality counts:**\n",
    "\n",
    "---\n",
    "\n",
    "\n",
    "\n"
   ]
  },
  {
   "cell_type": "markdown",
   "metadata": {
    "id": "eorCMNynvqGH"
   },
   "source": [
    "### Overview of the tables with all data present:"
   ]
  },
  {
   "cell_type": "code",
   "execution_count": null,
   "metadata": {
    "id": "AFmCd-wK6kq6"
   },
   "outputs": [],
   "source": [
    "from google.colab import auth\n",
    "auth.authenticate_user()\n",
    "#authenticate and connect to gcloud"
   ]
  },
  {
   "cell_type": "code",
   "execution_count": null,
   "metadata": {
    "colab": {
     "base_uri": "https://localhost:8080/",
     "height": 224
    },
    "id": "E03kV21v-KyE",
    "outputId": "6008a98d-a328-4b85-e5b3-966bde0630f2"
   },
   "outputs": [
    {
     "data": {
      "text/html": [
       "<div>\n",
       "<style scoped>\n",
       "    .dataframe tbody tr th:only-of-type {\n",
       "        vertical-align: middle;\n",
       "    }\n",
       "\n",
       "    .dataframe tbody tr th {\n",
       "        vertical-align: top;\n",
       "    }\n",
       "\n",
       "    .dataframe thead th {\n",
       "        text-align: right;\n",
       "    }\n",
       "</style>\n",
       "<table border=\"1\" class=\"dataframe\">\n",
       "  <thead>\n",
       "    <tr style=\"text-align: right;\">\n",
       "      <th></th>\n",
       "      <th>resident_status</th>\n",
       "      <th>education_2003_revision</th>\n",
       "      <th>month_of_death</th>\n",
       "      <th>sex</th>\n",
       "      <th>age_code</th>\n",
       "      <th>place_of_death</th>\n",
       "      <th>marital_status</th>\n",
       "      <th>day_of_week_of_death</th>\n",
       "      <th>injury_at_work</th>\n",
       "      <th>manner_of_death</th>\n",
       "      <th>activity_code</th>\n",
       "      <th>place_of_injury</th>\n",
       "      <th>race</th>\n",
       "    </tr>\n",
       "  </thead>\n",
       "  <tbody>\n",
       "    <tr>\n",
       "      <th>0</th>\n",
       "      <td>1</td>\n",
       "      <td>1</td>\n",
       "      <td>1</td>\n",
       "      <td>M</td>\n",
       "      <td>2</td>\n",
       "      <td>2</td>\n",
       "      <td>S</td>\n",
       "      <td>5</td>\n",
       "      <td>U</td>\n",
       "      <td>7</td>\n",
       "      <td>NaN</td>\n",
       "      <td>NaN</td>\n",
       "      <td>1</td>\n",
       "    </tr>\n",
       "    <tr>\n",
       "      <th>1</th>\n",
       "      <td>2</td>\n",
       "      <td>1</td>\n",
       "      <td>1</td>\n",
       "      <td>M</td>\n",
       "      <td>3</td>\n",
       "      <td>1</td>\n",
       "      <td>S</td>\n",
       "      <td>4</td>\n",
       "      <td>U</td>\n",
       "      <td>7</td>\n",
       "      <td>NaN</td>\n",
       "      <td>NaN</td>\n",
       "      <td>1</td>\n",
       "    </tr>\n",
       "    <tr>\n",
       "      <th>2</th>\n",
       "      <td>3</td>\n",
       "      <td>1</td>\n",
       "      <td>1</td>\n",
       "      <td>M</td>\n",
       "      <td>2</td>\n",
       "      <td>1</td>\n",
       "      <td>S</td>\n",
       "      <td>7</td>\n",
       "      <td>U</td>\n",
       "      <td>7</td>\n",
       "      <td>NaN</td>\n",
       "      <td>NaN</td>\n",
       "      <td>3</td>\n",
       "    </tr>\n",
       "    <tr>\n",
       "      <th>3</th>\n",
       "      <td>1</td>\n",
       "      <td>9</td>\n",
       "      <td>1</td>\n",
       "      <td>F</td>\n",
       "      <td>3</td>\n",
       "      <td>4</td>\n",
       "      <td>S</td>\n",
       "      <td>3</td>\n",
       "      <td>U</td>\n",
       "      <td>1</td>\n",
       "      <td>9.0</td>\n",
       "      <td>0.0</td>\n",
       "      <td>1</td>\n",
       "    </tr>\n",
       "    <tr>\n",
       "      <th>4</th>\n",
       "      <td>1</td>\n",
       "      <td>1</td>\n",
       "      <td>1</td>\n",
       "      <td>M</td>\n",
       "      <td>3</td>\n",
       "      <td>2</td>\n",
       "      <td>S</td>\n",
       "      <td>1</td>\n",
       "      <td>U</td>\n",
       "      <td>7</td>\n",
       "      <td>NaN</td>\n",
       "      <td>NaN</td>\n",
       "      <td>2</td>\n",
       "    </tr>\n",
       "  </tbody>\n",
       "</table>\n",
       "</div>"
      ],
      "text/plain": [
       "   resident_status  education_2003_revision  ...  place_of_injury race\n",
       "0                1                        1  ...              NaN    1\n",
       "1                2                        1  ...              NaN    1\n",
       "2                3                        1  ...              NaN    3\n",
       "3                1                        9  ...              0.0    1\n",
       "4                1                        1  ...              NaN    2\n",
       "\n",
       "[5 rows x 13 columns]"
      ]
     },
     "execution_count": 2,
     "metadata": {},
     "output_type": "execute_result"
    }
   ],
   "source": [
    "%%bigquery --project=ba775-team9-b2\n",
    "select * from `ba775-team9-b2.death_data_us.Sorted_2015_US_Mortality` limit 5;"
   ]
  },
  {
   "cell_type": "code",
   "execution_count": null,
   "metadata": {
    "colab": {
     "base_uri": "https://localhost:8080/",
     "height": 204
    },
    "id": "pVuwhNL7bAQ4",
    "outputId": "1df0b740-dec6-4301-c6e2-a0778974483a"
   },
   "outputs": [
    {
     "data": {
      "text/html": [
       "<div>\n",
       "<style scoped>\n",
       "    .dataframe tbody tr th:only-of-type {\n",
       "        vertical-align: middle;\n",
       "    }\n",
       "\n",
       "    .dataframe tbody tr th {\n",
       "        vertical-align: top;\n",
       "    }\n",
       "\n",
       "    .dataframe thead th {\n",
       "        text-align: right;\n",
       "    }\n",
       "</style>\n",
       "<table border=\"1\" class=\"dataframe\">\n",
       "  <thead>\n",
       "    <tr style=\"text-align: right;\">\n",
       "      <th></th>\n",
       "      <th>education_level</th>\n",
       "      <th>month_of_death</th>\n",
       "      <th>sex</th>\n",
       "      <th>age_code</th>\n",
       "      <th>age_consolidated</th>\n",
       "      <th>day_of_week_of_death</th>\n",
       "      <th>injury_at_work</th>\n",
       "      <th>manner_of_death</th>\n",
       "      <th>race</th>\n",
       "      <th>activity_code</th>\n",
       "    </tr>\n",
       "  </thead>\n",
       "  <tbody>\n",
       "    <tr>\n",
       "      <th>0</th>\n",
       "      <td>unknown or none</td>\n",
       "      <td>1</td>\n",
       "      <td>M</td>\n",
       "      <td>5-14years</td>\n",
       "      <td>0-14years</td>\n",
       "      <td>Sunday</td>\n",
       "      <td>U</td>\n",
       "      <td>Natural</td>\n",
       "      <td>Black</td>\n",
       "      <td>N/A</td>\n",
       "    </tr>\n",
       "    <tr>\n",
       "      <th>1</th>\n",
       "      <td>unknown or none</td>\n",
       "      <td>1</td>\n",
       "      <td>M</td>\n",
       "      <td>1-4years</td>\n",
       "      <td>0-14years</td>\n",
       "      <td>Thursday</td>\n",
       "      <td>U</td>\n",
       "      <td>Natural</td>\n",
       "      <td>White</td>\n",
       "      <td>N/A</td>\n",
       "    </tr>\n",
       "    <tr>\n",
       "      <th>2</th>\n",
       "      <td>unknown or none</td>\n",
       "      <td>1</td>\n",
       "      <td>F</td>\n",
       "      <td>5-14years</td>\n",
       "      <td>0-14years</td>\n",
       "      <td>Thursday</td>\n",
       "      <td>U</td>\n",
       "      <td>Natural</td>\n",
       "      <td>White</td>\n",
       "      <td>N/A</td>\n",
       "    </tr>\n",
       "    <tr>\n",
       "      <th>3</th>\n",
       "      <td>unknown or none</td>\n",
       "      <td>1</td>\n",
       "      <td>M</td>\n",
       "      <td>1-4years</td>\n",
       "      <td>0-14years</td>\n",
       "      <td>Wednesday</td>\n",
       "      <td>N</td>\n",
       "      <td>Accident</td>\n",
       "      <td>Black</td>\n",
       "      <td>Unspecified Activities</td>\n",
       "    </tr>\n",
       "    <tr>\n",
       "      <th>4</th>\n",
       "      <td>unknown or none</td>\n",
       "      <td>1</td>\n",
       "      <td>M</td>\n",
       "      <td>5-14years</td>\n",
       "      <td>0-14years</td>\n",
       "      <td>Wednesday</td>\n",
       "      <td>U</td>\n",
       "      <td>Natural</td>\n",
       "      <td>White</td>\n",
       "      <td>N/A</td>\n",
       "    </tr>\n",
       "  </tbody>\n",
       "</table>\n",
       "</div>"
      ],
      "text/plain": [
       "   education_level  month_of_death  ...   race           activity_code\n",
       "0  unknown or none               1  ...  Black                     N/A\n",
       "1  unknown or none               1  ...  White                     N/A\n",
       "2  unknown or none               1  ...  White                     N/A\n",
       "3  unknown or none               1  ...  Black  Unspecified Activities\n",
       "4  unknown or none               1  ...  White                     N/A\n",
       "\n",
       "[5 rows x 10 columns]"
      ]
     },
     "execution_count": 3,
     "metadata": {},
     "output_type": "execute_result"
    }
   ],
   "source": [
    "%%bigquery --project=ba775-team9-b2\n",
    "select * FROM `ba775-team9-b2.death_data_us.Mortailty_with_string_categories` limit 5;"
   ]
  },
  {
   "cell_type": "markdown",
   "metadata": {
    "id": "dw_S5cXNbRBU"
   },
   "source": [
    "The first table is the raw data given by the CDC which was found on Kaggle. From this data we used the legends given by the CDC to convert this categorical data back into strings so that it is easier to read.\n",
    "Below is the documentaion we used for this conversion:\n",
    "https://www.cdc.gov/nchs/data/dvs/Multiple_Cause_Record_Layout_2015.pdf"
   ]
  },
  {
   "cell_type": "markdown",
   "metadata": {
    "id": "_hBZS9JcnCyR"
   },
   "source": [
    "### Relative death counts between men and woman:"
   ]
  },
  {
   "cell_type": "code",
   "execution_count": 14,
   "metadata": {
    "colab": {
     "base_uri": "https://localhost:8080/",
     "height": 111
    },
    "id": "qztm9rfPm9Jk",
    "outputId": "84ba43ac-dbe0-423c-c241-635b5b036fb7"
   },
   "outputs": [
    {
     "data": {
      "text/html": [
       "<div>\n",
       "<style scoped>\n",
       "    .dataframe tbody tr th:only-of-type {\n",
       "        vertical-align: middle;\n",
       "    }\n",
       "\n",
       "    .dataframe tbody tr th {\n",
       "        vertical-align: top;\n",
       "    }\n",
       "\n",
       "    .dataframe thead th {\n",
       "        text-align: right;\n",
       "    }\n",
       "</style>\n",
       "<table border=\"1\" class=\"dataframe\">\n",
       "  <thead>\n",
       "    <tr style=\"text-align: right;\">\n",
       "      <th></th>\n",
       "      <th>sex</th>\n",
       "      <th>deaths_by_gender</th>\n",
       "      <th>percent_of_total</th>\n",
       "    </tr>\n",
       "  </thead>\n",
       "  <tbody>\n",
       "    <tr>\n",
       "      <th>0</th>\n",
       "      <td>F</td>\n",
       "      <td>1305420</td>\n",
       "      <td>49.35</td>\n",
       "    </tr>\n",
       "    <tr>\n",
       "      <th>1</th>\n",
       "      <td>M</td>\n",
       "      <td>1339735</td>\n",
       "      <td>50.65</td>\n",
       "    </tr>\n",
       "  </tbody>\n",
       "</table>\n",
       "</div>"
      ],
      "text/plain": [
       "  sex  deaths_by_gender  percent_of_total\n",
       "0   F           1305420             49.35\n",
       "1   M           1339735             50.65"
      ]
     },
     "execution_count": 14,
     "metadata": {},
     "output_type": "execute_result"
    }
   ],
   "source": [
    "%%bigquery --project=ba775-team9-b2\n",
    "select \n",
    "sex,\n",
    "count(*) as deaths_by_gender,\n",
    "round((count(*)/total_death_count)*100,2) as percent_of_total\n",
    "from( select count(*) as total_death_count\n",
    "from `ba775-team9-b2.death_data_us.Sorted_2015_US_Mortality`),\n",
    " `ba775-team9-b2.death_data_us.Sorted_2015_US_Mortality`\n",
    "group by sex,total_death_count \n",
    "order by deaths_by_gender;"
   ]
  },
  {
   "cell_type": "markdown",
   "metadata": {
    "id": "XdiAn7BonFtB"
   },
   "source": [
    "We observed that males have a slightly higher death counts, but the difference is not substantial enough to draw any conclusions.\n"
   ]
  },
  {
   "cell_type": "markdown",
   "metadata": {
    "id": "aDb8tR1fxzwY"
   },
   "source": [
    "### Analyzing how age and gender impact % of deaths:"
   ]
  },
  {
   "cell_type": "code",
   "execution_count": 17,
   "metadata": {
    "colab": {
     "base_uri": "https://localhost:8080/",
     "height": 359
    },
    "id": "JP1dHF25AnxG",
    "outputId": "8e1230a8-9c05-4a72-ba9f-8878f2bf9d20"
   },
   "outputs": [
    {
     "data": {
      "text/html": [
       "<div>\n",
       "<style scoped>\n",
       "    .dataframe tbody tr th:only-of-type {\n",
       "        vertical-align: middle;\n",
       "    }\n",
       "\n",
       "    .dataframe tbody tr th {\n",
       "        vertical-align: top;\n",
       "    }\n",
       "\n",
       "    .dataframe thead th {\n",
       "        text-align: right;\n",
       "    }\n",
       "</style>\n",
       "<table border=\"1\" class=\"dataframe\">\n",
       "  <thead>\n",
       "    <tr style=\"text-align: right;\">\n",
       "      <th></th>\n",
       "      <th>sex</th>\n",
       "      <th>age_code</th>\n",
       "      <th>death_count</th>\n",
       "      <th>percent_of_total</th>\n",
       "      <th>Male_Perc</th>\n",
       "      <th>Female_Perc</th>\n",
       "    </tr>\n",
       "  </thead>\n",
       "  <tbody>\n",
       "    <tr>\n",
       "      <th>0</th>\n",
       "      <td>F</td>\n",
       "      <td>85years and over</td>\n",
       "      <td>526179</td>\n",
       "      <td>19.892180</td>\n",
       "      <td>0.00</td>\n",
       "      <td>40.31</td>\n",
       "    </tr>\n",
       "    <tr>\n",
       "      <th>1</th>\n",
       "      <td>M</td>\n",
       "      <td>75-84years</td>\n",
       "      <td>315376</td>\n",
       "      <td>11.922780</td>\n",
       "      <td>23.54</td>\n",
       "      <td>0.00</td>\n",
       "    </tr>\n",
       "    <tr>\n",
       "      <th>2</th>\n",
       "      <td>M</td>\n",
       "      <td>85years and over</td>\n",
       "      <td>315103</td>\n",
       "      <td>11.912459</td>\n",
       "      <td>23.52</td>\n",
       "      <td>0.00</td>\n",
       "    </tr>\n",
       "    <tr>\n",
       "      <th>3</th>\n",
       "      <td>F</td>\n",
       "      <td>75-84years</td>\n",
       "      <td>305163</td>\n",
       "      <td>11.536677</td>\n",
       "      <td>0.00</td>\n",
       "      <td>23.38</td>\n",
       "    </tr>\n",
       "    <tr>\n",
       "      <th>4</th>\n",
       "      <td>M</td>\n",
       "      <td>65-74years</td>\n",
       "      <td>274758</td>\n",
       "      <td>10.387217</td>\n",
       "      <td>20.51</td>\n",
       "      <td>0.00</td>\n",
       "    </tr>\n",
       "    <tr>\n",
       "      <th>5</th>\n",
       "      <td>M</td>\n",
       "      <td>55-64years</td>\n",
       "      <td>211962</td>\n",
       "      <td>8.013217</td>\n",
       "      <td>15.82</td>\n",
       "      <td>0.00</td>\n",
       "    </tr>\n",
       "    <tr>\n",
       "      <th>6</th>\n",
       "      <td>F</td>\n",
       "      <td>65-74years</td>\n",
       "      <td>206869</td>\n",
       "      <td>7.820676</td>\n",
       "      <td>0.00</td>\n",
       "      <td>15.85</td>\n",
       "    </tr>\n",
       "    <tr>\n",
       "      <th>7</th>\n",
       "      <td>F</td>\n",
       "      <td>55-64years</td>\n",
       "      <td>136204</td>\n",
       "      <td>5.149188</td>\n",
       "      <td>0.00</td>\n",
       "      <td>10.43</td>\n",
       "    </tr>\n",
       "    <tr>\n",
       "      <th>8</th>\n",
       "      <td>M</td>\n",
       "      <td>45-54years</td>\n",
       "      <td>102764</td>\n",
       "      <td>3.884990</td>\n",
       "      <td>7.67</td>\n",
       "      <td>0.00</td>\n",
       "    </tr>\n",
       "    <tr>\n",
       "      <th>9</th>\n",
       "      <td>F</td>\n",
       "      <td>45-54years</td>\n",
       "      <td>66989</td>\n",
       "      <td>2.532517</td>\n",
       "      <td>0.00</td>\n",
       "      <td>5.13</td>\n",
       "    </tr>\n",
       "  </tbody>\n",
       "</table>\n",
       "</div>"
      ],
      "text/plain": [
       "  sex          age_code  death_count  percent_of_total  Male_Perc  Female_Perc\n",
       "0   F  85years and over       526179         19.892180       0.00        40.31\n",
       "1   M        75-84years       315376         11.922780      23.54         0.00\n",
       "2   M  85years and over       315103         11.912459      23.52         0.00\n",
       "3   F        75-84years       305163         11.536677       0.00        23.38\n",
       "4   M        65-74years       274758         10.387217      20.51         0.00\n",
       "5   M        55-64years       211962          8.013217      15.82         0.00\n",
       "6   F        65-74years       206869          7.820676       0.00        15.85\n",
       "7   F        55-64years       136204          5.149188       0.00        10.43\n",
       "8   M        45-54years       102764          3.884990       7.67         0.00\n",
       "9   F        45-54years        66989          2.532517       0.00         5.13"
      ]
     },
     "execution_count": 17,
     "metadata": {},
     "output_type": "execute_result"
    }
   ],
   "source": [
    "%%bigquery --project=ba775-team9-b2\n",
    "select \n",
    "    sex,\n",
    "    age_code, \n",
    "    count(*) as death_count, \n",
    "    ((count(*) / total_death_count)*100) as percent_of_total,\n",
    "    round((count(case when sex = 'M' then sex else NULL end)/male_deaths)*100,2) as Male_Perc,\n",
    "    round((count(case when sex = 'F' then sex else NULL end)/female_deaths)*100,2) as Female_Perc\n",
    "\n",
    "from( select count(*) as total_death_count from `ba775-team9-b2.death_data_us.Sorted_2015_US_Mortality`),\n",
    "    ( select count(*) as male_deaths from `ba775-team9-b2.death_data_us.Sorted_2015_US_Mortality` where sex = 'M'),\n",
    "    ( select count(*) as female_deaths from `ba775-team9-b2.death_data_us.Sorted_2015_US_Mortality` where sex = 'F'),\n",
    "    `ba775-team9-b2.death_data_us.Mortailty_with_string_categories`\n",
    "group by sex,age_code,total_death_count, male_deaths, female_deaths \n",
    "order by percent_of_total desc limit 10;"
   ]
  },
  {
   "cell_type": "markdown",
   "metadata": {
    "id": "TILBStOtnMhC"
   },
   "source": [
    "The age group with the most deaths for females is '85years and over', while the group with the highest deaths for males is '75-84years'."
   ]
  },
  {
   "cell_type": "markdown",
   "metadata": {
    "id": "lW2HophPNqva"
   },
   "source": [
    "### Analyzing which manner of death is the most common among the total number of deaths reported:"
   ]
  },
  {
   "cell_type": "code",
   "execution_count": 18,
   "metadata": {
    "colab": {
     "base_uri": "https://localhost:8080/",
     "height": 173
    },
    "id": "K35U3UwJNz0i",
    "outputId": "53d9020d-3e70-4d0d-8989-3917733a6f8e"
   },
   "outputs": [
    {
     "data": {
      "text/html": [
       "<div>\n",
       "<style scoped>\n",
       "    .dataframe tbody tr th:only-of-type {\n",
       "        vertical-align: middle;\n",
       "    }\n",
       "\n",
       "    .dataframe tbody tr th {\n",
       "        vertical-align: top;\n",
       "    }\n",
       "\n",
       "    .dataframe thead th {\n",
       "        text-align: right;\n",
       "    }\n",
       "</style>\n",
       "<table border=\"1\" class=\"dataframe\">\n",
       "  <thead>\n",
       "    <tr style=\"text-align: right;\">\n",
       "      <th></th>\n",
       "      <th>manner_of_death</th>\n",
       "      <th>number_of_deaths</th>\n",
       "      <th>percent_of_total</th>\n",
       "    </tr>\n",
       "  </thead>\n",
       "  <tbody>\n",
       "    <tr>\n",
       "      <th>0</th>\n",
       "      <td>Natural</td>\n",
       "      <td>2042686</td>\n",
       "      <td>77.22</td>\n",
       "    </tr>\n",
       "    <tr>\n",
       "      <th>1</th>\n",
       "      <td>Accident</td>\n",
       "      <td>140365</td>\n",
       "      <td>5.31</td>\n",
       "    </tr>\n",
       "    <tr>\n",
       "      <th>2</th>\n",
       "      <td>Suicide</td>\n",
       "      <td>43316</td>\n",
       "      <td>1.64</td>\n",
       "    </tr>\n",
       "    <tr>\n",
       "      <th>3</th>\n",
       "      <td>Homicide</td>\n",
       "      <td>18313</td>\n",
       "      <td>0.69</td>\n",
       "    </tr>\n",
       "  </tbody>\n",
       "</table>\n",
       "</div>"
      ],
      "text/plain": [
       "  manner_of_death  number_of_deaths  percent_of_total\n",
       "0         Natural           2042686             77.22\n",
       "1        Accident            140365              5.31\n",
       "2         Suicide             43316              1.64\n",
       "3        Homicide             18313              0.69"
      ]
     },
     "execution_count": 18,
     "metadata": {},
     "output_type": "execute_result"
    }
   ],
   "source": [
    "%%bigquery --project=ba775-team9-b2\n",
    "select manner_of_death, count(sex) as number_of_deaths, round((count(sex)/total_death_count)*100,2) as percent_of_total\n",
    "FROM ( select count(*) as total_death_count\n",
    "from `ba775-team9-b2.death_data_us.Sorted_2015_US_Mortality`),\n",
    " `ba775-team9-b2.death_data_us.Mortailty_with_string_categories` \n",
    " where manner_of_death not in ('Unknown','Could not determine', 'Pending investigation')\n",
    "GROUP BY manner_of_death,total_death_count\n",
    "ORDER BY number_of_deaths DESC;"
   ]
  },
  {
   "cell_type": "markdown",
   "metadata": {
    "id": "75yQk4tfkWCj"
   },
   "source": [
    "From this query we can see that natural causes are the most common manner of death, followed by accidents."
   ]
  },
  {
   "cell_type": "markdown",
   "metadata": {
    "id": "R2UVypQ1azVZ"
   },
   "source": [
    "## **Digging Deeper into the Data:**"
   ]
  },
  {
   "cell_type": "markdown",
   "metadata": {
    "id": "UON3F45aCVWP"
   },
   "source": [
    "### Analyzing how the day of the week is related to number of deaths in a given age group:"
   ]
  },
  {
   "cell_type": "code",
   "execution_count": 19,
   "metadata": {
    "colab": {
     "base_uri": "https://localhost:8080/",
     "height": 359
    },
    "id": "fAOCeHAtB3rB",
    "outputId": "a62ede27-0ea1-4b07-84d9-9617f2f81b12"
   },
   "outputs": [
    {
     "data": {
      "text/html": [
       "<div>\n",
       "<style scoped>\n",
       "    .dataframe tbody tr th:only-of-type {\n",
       "        vertical-align: middle;\n",
       "    }\n",
       "\n",
       "    .dataframe tbody tr th {\n",
       "        vertical-align: top;\n",
       "    }\n",
       "\n",
       "    .dataframe thead th {\n",
       "        text-align: right;\n",
       "    }\n",
       "</style>\n",
       "<table border=\"1\" class=\"dataframe\">\n",
       "  <thead>\n",
       "    <tr style=\"text-align: right;\">\n",
       "      <th></th>\n",
       "      <th>age_group</th>\n",
       "      <th>day_of_week_of_death</th>\n",
       "      <th>total_deaths_by_age</th>\n",
       "      <th>percent_of_total</th>\n",
       "    </tr>\n",
       "  </thead>\n",
       "  <tbody>\n",
       "    <tr>\n",
       "      <th>0</th>\n",
       "      <td>15-34years</td>\n",
       "      <td>Sunday</td>\n",
       "      <td>80172</td>\n",
       "      <td>16.02</td>\n",
       "    </tr>\n",
       "    <tr>\n",
       "      <th>1</th>\n",
       "      <td>15-34years</td>\n",
       "      <td>Saturday</td>\n",
       "      <td>80172</td>\n",
       "      <td>15.74</td>\n",
       "    </tr>\n",
       "    <tr>\n",
       "      <th>2</th>\n",
       "      <td>0-14years</td>\n",
       "      <td>Saturday</td>\n",
       "      <td>32125</td>\n",
       "      <td>14.70</td>\n",
       "    </tr>\n",
       "    <tr>\n",
       "      <th>3</th>\n",
       "      <td>0-14years</td>\n",
       "      <td>Friday</td>\n",
       "      <td>32125</td>\n",
       "      <td>14.70</td>\n",
       "    </tr>\n",
       "    <tr>\n",
       "      <th>4</th>\n",
       "      <td>65+years</td>\n",
       "      <td>Thursday</td>\n",
       "      <td>1943448</td>\n",
       "      <td>14.57</td>\n",
       "    </tr>\n",
       "    <tr>\n",
       "      <th>5</th>\n",
       "      <td>35-54years</td>\n",
       "      <td>Saturday</td>\n",
       "      <td>240872</td>\n",
       "      <td>14.51</td>\n",
       "    </tr>\n",
       "    <tr>\n",
       "      <th>6</th>\n",
       "      <td>55-64years</td>\n",
       "      <td>Monday</td>\n",
       "      <td>348166</td>\n",
       "      <td>14.48</td>\n",
       "    </tr>\n",
       "    <tr>\n",
       "      <th>7</th>\n",
       "      <td>55-64years</td>\n",
       "      <td>Thursday</td>\n",
       "      <td>348166</td>\n",
       "      <td>14.47</td>\n",
       "    </tr>\n",
       "    <tr>\n",
       "      <th>8</th>\n",
       "      <td>0-14years</td>\n",
       "      <td>Thursday</td>\n",
       "      <td>32125</td>\n",
       "      <td>14.46</td>\n",
       "    </tr>\n",
       "    <tr>\n",
       "      <th>9</th>\n",
       "      <td>35-54years</td>\n",
       "      <td>Sunday</td>\n",
       "      <td>240872</td>\n",
       "      <td>14.44</td>\n",
       "    </tr>\n",
       "  </tbody>\n",
       "</table>\n",
       "</div>"
      ],
      "text/plain": [
       "    age_group day_of_week_of_death  total_deaths_by_age  percent_of_total\n",
       "0  15-34years               Sunday                80172             16.02\n",
       "1  15-34years             Saturday                80172             15.74\n",
       "2   0-14years             Saturday                32125             14.70\n",
       "3   0-14years               Friday                32125             14.70\n",
       "4    65+years             Thursday              1943448             14.57\n",
       "5  35-54years             Saturday               240872             14.51\n",
       "6  55-64years               Monday               348166             14.48\n",
       "7  55-64years             Thursday               348166             14.47\n",
       "8   0-14years             Thursday                32125             14.46\n",
       "9  35-54years               Sunday               240872             14.44"
      ]
     },
     "execution_count": 19,
     "metadata": {},
     "output_type": "execute_result"
    }
   ],
   "source": [
    "%%bigquery --project=ba775-team9-b2\n",
    "WITH weekday_age as (\n",
    "    select\n",
    "      a.age_consolidated as age_group, \n",
    "        a.day_of_week_of_death,  b.total_deaths_by_age,\n",
    "        round((count(a.day_of_week_of_death)/total_deaths_by_age)*100,2) as percent_of_total,\n",
    "    FROM `ba775-team9-b2.death_data_us.Mortailty_with_string_categories` as a\n",
    "    INNER JOIN (\n",
    "        SELECT count(*) as total_deaths_by_age, age_consolidated\n",
    "        FROM `ba775-team9-b2.death_data_us.Mortailty_with_string_categories`\n",
    "        GROUP BY age_consolidated\n",
    "        \n",
    "    ) as b\n",
    "    on a.age_consolidated = b.age_consolidated\n",
    "    WHERE a.age_consolidated <> 'Age not stated' and a.day_of_week_of_death <>'Unknown'\n",
    "    GROUP BY age_group, day_of_week_of_death, total_deaths_by_age\n",
    "    ORDER BY b.total_deaths_by_age DESC, percent_of_total DESC) \n",
    "\n",
    "    SELECT  * FROM weekday_age \n",
    "    order by percent_of_total desc\n",
    "    limit 10;"
   ]
  },
  {
   "cell_type": "markdown",
   "metadata": {
    "id": "ZnvMWv5LEqCD"
   },
   "source": [
    "The above results show the % of deaths between 15-34 year olds tend to be higher on the weekends, while % of deaths tend to be more even across the week for higher age groups."
   ]
  },
  {
   "cell_type": "markdown",
   "metadata": {
    "id": "LB1wcX2JW7PV"
   },
   "source": [
    "### Initial analysis of death counts by education:\n",
    "\n"
   ]
  },
  {
   "cell_type": "code",
   "execution_count": null,
   "metadata": {
    "colab": {
     "base_uri": "https://localhost:8080/",
     "height": 266
    },
    "id": "ukXSOndhR5JY",
    "outputId": "1aed7847-e3ef-4d27-b398-6d9393edf2ec"
   },
   "outputs": [
    {
     "data": {
      "text/html": [
       "<div>\n",
       "<style scoped>\n",
       "    .dataframe tbody tr th:only-of-type {\n",
       "        vertical-align: middle;\n",
       "    }\n",
       "\n",
       "    .dataframe tbody tr th {\n",
       "        vertical-align: top;\n",
       "    }\n",
       "\n",
       "    .dataframe thead th {\n",
       "        text-align: right;\n",
       "    }\n",
       "</style>\n",
       "<table border=\"1\" class=\"dataframe\">\n",
       "  <thead>\n",
       "    <tr style=\"text-align: right;\">\n",
       "      <th></th>\n",
       "      <th>education_level</th>\n",
       "      <th>deaths_counts</th>\n",
       "    </tr>\n",
       "  </thead>\n",
       "  <tbody>\n",
       "    <tr>\n",
       "      <th>0</th>\n",
       "      <td>master degree</td>\n",
       "      <td>103978</td>\n",
       "    </tr>\n",
       "    <tr>\n",
       "      <th>1</th>\n",
       "      <td>high school grad or GED</td>\n",
       "      <td>1077604</td>\n",
       "    </tr>\n",
       "    <tr>\n",
       "      <th>2</th>\n",
       "      <td>doctorate or professional degree</td>\n",
       "      <td>43688</td>\n",
       "    </tr>\n",
       "    <tr>\n",
       "      <th>3</th>\n",
       "      <td>come college credit, no degree</td>\n",
       "      <td>315364</td>\n",
       "    </tr>\n",
       "    <tr>\n",
       "      <th>4</th>\n",
       "      <td>bachelor degreee</td>\n",
       "      <td>261106</td>\n",
       "    </tr>\n",
       "    <tr>\n",
       "      <th>5</th>\n",
       "      <td>associate degree</td>\n",
       "      <td>154326</td>\n",
       "    </tr>\n",
       "    <tr>\n",
       "      <th>6</th>\n",
       "      <td>9-12th grade, no diploma</td>\n",
       "      <td>278916</td>\n",
       "    </tr>\n",
       "  </tbody>\n",
       "</table>\n",
       "</div>"
      ],
      "text/plain": [
       "                    education_level  deaths_counts\n",
       "0                     master degree         103978\n",
       "1           high school grad or GED        1077604\n",
       "2  doctorate or professional degree          43688\n",
       "3    come college credit, no degree         315364\n",
       "4                  bachelor degreee         261106\n",
       "5                  associate degree         154326\n",
       "6          9-12th grade, no diploma         278916"
      ]
     },
     "execution_count": 6,
     "metadata": {},
     "output_type": "execute_result"
    }
   ],
   "source": [
    "%%bigquery --project=ba775-team9-b2\n",
    "select education_level,\n",
    "     COUNT(*) as deaths_counts,\n",
    "from `ba775-team9-b2.death_data_us.Mortailty_with_string_categories`\n",
    "where education_level not like  '%unknown%'\n",
    "GROUP BY education_level\n",
    "ORDER BY education_level DESC;"
   ]
  },
  {
   "cell_type": "markdown",
   "metadata": {
    "id": "_ns2m-nW9Uby"
   },
   "source": [
    "Based on the above results, we can see that death counts are highest for the individuals with high school diploma and lowest for the ones that have doctorate or professional degrees; however, this analysis is impacted by the fact that there are fewer people with higher levels of education."
   ]
  },
  {
   "cell_type": "markdown",
   "metadata": {
    "id": "xD9gKcwjYjzw"
   },
   "source": [
    "### Analyzing % deaths by education level for each age group:"
   ]
  },
  {
   "cell_type": "code",
   "execution_count": 20,
   "metadata": {
    "colab": {
     "base_uri": "https://localhost:8080/",
     "height": 359
    },
    "id": "bE8Dhii1YWDd",
    "outputId": "38ac2c7c-7df3-4da7-993f-345969222aeb"
   },
   "outputs": [
    {
     "data": {
      "text/html": [
       "<div>\n",
       "<style scoped>\n",
       "    .dataframe tbody tr th:only-of-type {\n",
       "        vertical-align: middle;\n",
       "    }\n",
       "\n",
       "    .dataframe tbody tr th {\n",
       "        vertical-align: top;\n",
       "    }\n",
       "\n",
       "    .dataframe thead th {\n",
       "        text-align: right;\n",
       "    }\n",
       "</style>\n",
       "<table border=\"1\" class=\"dataframe\">\n",
       "  <thead>\n",
       "    <tr style=\"text-align: right;\">\n",
       "      <th></th>\n",
       "      <th>age_code</th>\n",
       "      <th>education_level</th>\n",
       "      <th>deaths_by_age_and_education</th>\n",
       "      <th>total_deaths_by_education</th>\n",
       "      <th>percent_of_total</th>\n",
       "    </tr>\n",
       "  </thead>\n",
       "  <tbody>\n",
       "    <tr>\n",
       "      <th>0</th>\n",
       "      <td>85years and over</td>\n",
       "      <td>doctorate or professional degree</td>\n",
       "      <td>16380</td>\n",
       "      <td>43688</td>\n",
       "      <td>37.5</td>\n",
       "    </tr>\n",
       "    <tr>\n",
       "      <th>1</th>\n",
       "      <td>85years and over</td>\n",
       "      <td>bachelor degreee</td>\n",
       "      <td>86013</td>\n",
       "      <td>261106</td>\n",
       "      <td>32.9</td>\n",
       "    </tr>\n",
       "    <tr>\n",
       "      <th>2</th>\n",
       "      <td>85years and over</td>\n",
       "      <td>high school grad or GED</td>\n",
       "      <td>346300</td>\n",
       "      <td>1077604</td>\n",
       "      <td>32.1</td>\n",
       "    </tr>\n",
       "    <tr>\n",
       "      <th>3</th>\n",
       "      <td>85years and over</td>\n",
       "      <td>master degree</td>\n",
       "      <td>33344</td>\n",
       "      <td>103978</td>\n",
       "      <td>32.1</td>\n",
       "    </tr>\n",
       "    <tr>\n",
       "      <th>4</th>\n",
       "      <td>85years and over</td>\n",
       "      <td>9-12th grade, no diploma</td>\n",
       "      <td>78285</td>\n",
       "      <td>278916</td>\n",
       "      <td>28.1</td>\n",
       "    </tr>\n",
       "    <tr>\n",
       "      <th>5</th>\n",
       "      <td>75-84years</td>\n",
       "      <td>doctorate or professional degree</td>\n",
       "      <td>12193</td>\n",
       "      <td>43688</td>\n",
       "      <td>27.9</td>\n",
       "    </tr>\n",
       "    <tr>\n",
       "      <th>6</th>\n",
       "      <td>75-84years</td>\n",
       "      <td>master degree</td>\n",
       "      <td>27848</td>\n",
       "      <td>103978</td>\n",
       "      <td>26.8</td>\n",
       "    </tr>\n",
       "    <tr>\n",
       "      <th>7</th>\n",
       "      <td>85years and over</td>\n",
       "      <td>come college credit, no degree</td>\n",
       "      <td>83644</td>\n",
       "      <td>315364</td>\n",
       "      <td>26.5</td>\n",
       "    </tr>\n",
       "    <tr>\n",
       "      <th>8</th>\n",
       "      <td>85years and over</td>\n",
       "      <td>associate degree</td>\n",
       "      <td>39335</td>\n",
       "      <td>154326</td>\n",
       "      <td>25.5</td>\n",
       "    </tr>\n",
       "    <tr>\n",
       "      <th>9</th>\n",
       "      <td>75-84years</td>\n",
       "      <td>bachelor degreee</td>\n",
       "      <td>62485</td>\n",
       "      <td>261106</td>\n",
       "      <td>23.9</td>\n",
       "    </tr>\n",
       "  </tbody>\n",
       "</table>\n",
       "</div>"
      ],
      "text/plain": [
       "           age_code  ... percent_of_total\n",
       "0  85years and over  ...             37.5\n",
       "1  85years and over  ...             32.9\n",
       "2  85years and over  ...             32.1\n",
       "3  85years and over  ...             32.1\n",
       "4  85years and over  ...             28.1\n",
       "5        75-84years  ...             27.9\n",
       "6        75-84years  ...             26.8\n",
       "7  85years and over  ...             26.5\n",
       "8  85years and over  ...             25.5\n",
       "9        75-84years  ...             23.9\n",
       "\n",
       "[10 rows x 5 columns]"
      ]
     },
     "execution_count": 20,
     "metadata": {},
     "output_type": "execute_result"
    }
   ],
   "source": [
    "%%bigquery --project=ba775-team9-b2\n",
    "WITH C as (\n",
    "    select\n",
    "        a.age_code, \n",
    "        a.education_level, \n",
    "        count(a.sex) as deaths_by_age_and_education,\n",
    "        b.total_deaths_by_education\n",
    "    FROM `ba775-team9-b2.death_data_us.Mortailty_with_string_categories` as a\n",
    "    INNER JOIN (\n",
    "        SELECT count(*) as total_deaths_by_education, education_level\n",
    "        FROM `ba775-team9-b2.death_data_us.Mortailty_with_string_categories`\n",
    "        GROUP BY education_level \n",
    "        \n",
    "    ) as b\n",
    "    on a.education_level = b.education_level\n",
    "    WHERE a.education_level <> 'unknown or none'\n",
    "    GROUP BY age_code, education_level, total_deaths_by_education\n",
    "    ORDER BY b.total_deaths_by_education DESC, deaths_by_age_and_education DESC \n",
    ")\n",
    "\n",
    "SELECT *, (round((deaths_by_age_and_education  / total_deaths_by_education),3)*100) as percent_of_total\n",
    "FROM C \n",
    "order by percent_of_total desc\n",
    "limit 10;"
   ]
  },
  {
   "cell_type": "markdown",
   "metadata": {
    "id": "yoDMEXy4lCeF"
   },
   "source": [
    "The analysis between age groups and education levels indicated a higher % of deaths for people with education levels of bachelors and above were in the 65+ year age group, compared to deaths amongst people with fewer years of education."
   ]
  },
  {
   "cell_type": "markdown",
   "metadata": {
    "id": "dtexqlTtcxlP"
   },
   "source": [
    "### Investigating if the education level and age are related to the injury at work and results in higher or lower death counts:\n"
   ]
  },
  {
   "cell_type": "code",
   "execution_count": 13,
   "metadata": {
    "colab": {
     "base_uri": "https://localhost:8080/",
     "height": 359
    },
    "id": "ilAPm9PCz6KP",
    "outputId": "3a4e0285-4ff6-4e2b-fff9-88a3feb95da1"
   },
   "outputs": [
    {
     "data": {
      "text/html": [
       "<div>\n",
       "<style scoped>\n",
       "    .dataframe tbody tr th:only-of-type {\n",
       "        vertical-align: middle;\n",
       "    }\n",
       "\n",
       "    .dataframe tbody tr th {\n",
       "        vertical-align: top;\n",
       "    }\n",
       "\n",
       "    .dataframe thead th {\n",
       "        text-align: right;\n",
       "    }\n",
       "</style>\n",
       "<table border=\"1\" class=\"dataframe\">\n",
       "  <thead>\n",
       "    <tr style=\"text-align: right;\">\n",
       "      <th></th>\n",
       "      <th>age_during_death</th>\n",
       "      <th>education_level</th>\n",
       "      <th>injury_at_work</th>\n",
       "      <th>percent_of_total</th>\n",
       "    </tr>\n",
       "  </thead>\n",
       "  <tbody>\n",
       "    <tr>\n",
       "      <th>0</th>\n",
       "      <td>65+years</td>\n",
       "      <td>high school grad or GED</td>\n",
       "      <td>N</td>\n",
       "      <td>13.912719</td>\n",
       "    </tr>\n",
       "    <tr>\n",
       "      <th>1</th>\n",
       "      <td>35-54years</td>\n",
       "      <td>high school grad or GED</td>\n",
       "      <td>N</td>\n",
       "      <td>13.415004</td>\n",
       "    </tr>\n",
       "    <tr>\n",
       "      <th>2</th>\n",
       "      <td>15-34years</td>\n",
       "      <td>high school grad or GED</td>\n",
       "      <td>N</td>\n",
       "      <td>11.971686</td>\n",
       "    </tr>\n",
       "    <tr>\n",
       "      <th>3</th>\n",
       "      <td>55-64years</td>\n",
       "      <td>high school grad or GED</td>\n",
       "      <td>N</td>\n",
       "      <td>6.449709</td>\n",
       "    </tr>\n",
       "    <tr>\n",
       "      <th>4</th>\n",
       "      <td>15-34years</td>\n",
       "      <td>9-12th grade, no diploma</td>\n",
       "      <td>N</td>\n",
       "      <td>5.803059</td>\n",
       "    </tr>\n",
       "    <tr>\n",
       "      <th>5</th>\n",
       "      <td>15-34years</td>\n",
       "      <td>come college credit, no degree</td>\n",
       "      <td>N</td>\n",
       "      <td>5.211651</td>\n",
       "    </tr>\n",
       "    <tr>\n",
       "      <th>6</th>\n",
       "      <td>35-54years</td>\n",
       "      <td>come college credit, no degree</td>\n",
       "      <td>N</td>\n",
       "      <td>4.567167</td>\n",
       "    </tr>\n",
       "    <tr>\n",
       "      <th>7</th>\n",
       "      <td>35-54years</td>\n",
       "      <td>9-12th grade, no diploma</td>\n",
       "      <td>N</td>\n",
       "      <td>4.386278</td>\n",
       "    </tr>\n",
       "    <tr>\n",
       "      <th>8</th>\n",
       "      <td>65+years</td>\n",
       "      <td>bachelor degreee</td>\n",
       "      <td>N</td>\n",
       "      <td>4.062412</td>\n",
       "    </tr>\n",
       "    <tr>\n",
       "      <th>9</th>\n",
       "      <td>65+years</td>\n",
       "      <td>come college credit, no degree</td>\n",
       "      <td>N</td>\n",
       "      <td>3.928099</td>\n",
       "    </tr>\n",
       "  </tbody>\n",
       "</table>\n",
       "</div>"
      ],
      "text/plain": [
       "  age_during_death  ... percent_of_total\n",
       "0         65+years  ...        13.912719\n",
       "1       35-54years  ...        13.415004\n",
       "2       15-34years  ...        11.971686\n",
       "3       55-64years  ...         6.449709\n",
       "4       15-34years  ...         5.803059\n",
       "5       15-34years  ...         5.211651\n",
       "6       35-54years  ...         4.567167\n",
       "7       35-54years  ...         4.386278\n",
       "8         65+years  ...         4.062412\n",
       "9         65+years  ...         3.928099\n",
       "\n",
       "[10 rows x 4 columns]"
      ]
     },
     "execution_count": 13,
     "metadata": {},
     "output_type": "execute_result"
    }
   ],
   "source": [
    "%%bigquery --project=ba775-team9-b2\n",
    " select age_consolidated as age_during_death,education_level,injury_at_work ,((count(injury_at_work)/total_death_count)*100) as percent_of_total\n",
    " FROM( select count(*) as total_death_count\n",
    "from `ba775-team9-b2.death_data_us.Mortailty_with_string_categories` where injury_at_work in ('Y','N') and education_level<>'unknown or none' and age_consolidated <> 'Age not stated'),\n",
    "  `ba775-team9-b2.death_data_us.Mortailty_with_string_categories`\n",
    " where injury_at_work in ('Y','N') and education_level<>'unknown or none' and age_consolidated <> 'Age not stated'\n",
    " group by age_consolidated,education_level,injury_at_work,total_death_count\n",
    " order by percent_of_total desc\n",
    " limit 10;"
   ]
  },
  {
   "cell_type": "markdown",
   "metadata": {
    "id": "ULrSho-UYtTO"
   },
   "source": [
    "Results from above query show that % deaths due to injury at work is lower for people with doctorate or masters degree, compared to people with education levels of high school diplomas or below. An important external variable that we did not have visibility into would have been the type of occupation people in these age groups had."
   ]
  },
  {
   "cell_type": "markdown",
   "metadata": {
    "id": "K2tVeII6c387"
   },
   "source": [
    "### Analyzing death counts by specific age groups and activity codes along with manner of death:"
   ]
  },
  {
   "cell_type": "code",
   "execution_count": 23,
   "metadata": {
    "colab": {
     "base_uri": "https://localhost:8080/",
     "height": 359
    },
    "id": "3tZQjY-ghY2i",
    "outputId": "70e80266-4b56-406b-e2ec-15dc55a340d6"
   },
   "outputs": [
    {
     "data": {
      "text/html": [
       "<div>\n",
       "<style scoped>\n",
       "    .dataframe tbody tr th:only-of-type {\n",
       "        vertical-align: middle;\n",
       "    }\n",
       "\n",
       "    .dataframe tbody tr th {\n",
       "        vertical-align: top;\n",
       "    }\n",
       "\n",
       "    .dataframe thead th {\n",
       "        text-align: right;\n",
       "    }\n",
       "</style>\n",
       "<table border=\"1\" class=\"dataframe\">\n",
       "  <thead>\n",
       "    <tr style=\"text-align: right;\">\n",
       "      <th></th>\n",
       "      <th>age_group</th>\n",
       "      <th>activity_code</th>\n",
       "      <th>manner_of_death</th>\n",
       "      <th>total_deaths_by_age</th>\n",
       "      <th>percent_of_total</th>\n",
       "    </tr>\n",
       "  </thead>\n",
       "  <tbody>\n",
       "    <tr>\n",
       "      <th>0</th>\n",
       "      <td>0-14years</td>\n",
       "      <td>Vital Activities</td>\n",
       "      <td>Accident</td>\n",
       "      <td>24</td>\n",
       "      <td>54.0</td>\n",
       "    </tr>\n",
       "    <tr>\n",
       "      <th>1</th>\n",
       "      <td>65+years</td>\n",
       "      <td>Vital Activities</td>\n",
       "      <td>Accident</td>\n",
       "      <td>360</td>\n",
       "      <td>44.0</td>\n",
       "    </tr>\n",
       "    <tr>\n",
       "      <th>2</th>\n",
       "      <td>15-34years</td>\n",
       "      <td>Leisure Activity</td>\n",
       "      <td>Accident</td>\n",
       "      <td>177</td>\n",
       "      <td>25.0</td>\n",
       "    </tr>\n",
       "    <tr>\n",
       "      <th>3</th>\n",
       "      <td>55-64years</td>\n",
       "      <td>Vital Activities</td>\n",
       "      <td>Accident</td>\n",
       "      <td>110</td>\n",
       "      <td>22.0</td>\n",
       "    </tr>\n",
       "    <tr>\n",
       "      <th>4</th>\n",
       "      <td>35-54years</td>\n",
       "      <td>Leisure Activity</td>\n",
       "      <td>Accident</td>\n",
       "      <td>204</td>\n",
       "      <td>22.0</td>\n",
       "    </tr>\n",
       "    <tr>\n",
       "      <th>5</th>\n",
       "      <td>0-14years</td>\n",
       "      <td>Leisure Activity</td>\n",
       "      <td>Accident</td>\n",
       "      <td>24</td>\n",
       "      <td>17.0</td>\n",
       "    </tr>\n",
       "    <tr>\n",
       "      <th>6</th>\n",
       "      <td>15-34years</td>\n",
       "      <td>Vital Activities</td>\n",
       "      <td>Accident</td>\n",
       "      <td>177</td>\n",
       "      <td>16.0</td>\n",
       "    </tr>\n",
       "    <tr>\n",
       "      <th>7</th>\n",
       "      <td>55-64years</td>\n",
       "      <td>Leisure Activity</td>\n",
       "      <td>Accident</td>\n",
       "      <td>110</td>\n",
       "      <td>16.0</td>\n",
       "    </tr>\n",
       "    <tr>\n",
       "      <th>8</th>\n",
       "      <td>35-54years</td>\n",
       "      <td>Working for Income</td>\n",
       "      <td>Accident</td>\n",
       "      <td>204</td>\n",
       "      <td>15.0</td>\n",
       "    </tr>\n",
       "    <tr>\n",
       "      <th>9</th>\n",
       "      <td>55-64years</td>\n",
       "      <td>Working for Income</td>\n",
       "      <td>Accident</td>\n",
       "      <td>110</td>\n",
       "      <td>15.0</td>\n",
       "    </tr>\n",
       "  </tbody>\n",
       "</table>\n",
       "</div>"
      ],
      "text/plain": [
       "    age_group       activity_code  ... total_deaths_by_age  percent_of_total\n",
       "0   0-14years    Vital Activities  ...                  24              54.0\n",
       "1    65+years    Vital Activities  ...                 360              44.0\n",
       "2  15-34years    Leisure Activity  ...                 177              25.0\n",
       "3  55-64years    Vital Activities  ...                 110              22.0\n",
       "4  35-54years    Leisure Activity  ...                 204              22.0\n",
       "5   0-14years    Leisure Activity  ...                  24              17.0\n",
       "6  15-34years    Vital Activities  ...                 177              16.0\n",
       "7  55-64years    Leisure Activity  ...                 110              16.0\n",
       "8  35-54years  Working for Income  ...                 204              15.0\n",
       "9  55-64years  Working for Income  ...                 110              15.0\n",
       "\n",
       "[10 rows x 5 columns]"
      ]
     },
     "execution_count": 23,
     "metadata": {},
     "output_type": "execute_result"
    }
   ],
   "source": [
    "%%bigquery --project=ba775-team9-b2\n",
    "WITH activity_code_age as (\n",
    "    select\n",
    "      a.age_consolidated as age_group, \n",
    "        a.activity_code,  a.manner_of_death, b.total_deaths_by_age,\n",
    "        (round((count(a.activity_code)/total_deaths_by_age),2)*100) as percent_of_total,\n",
    "    FROM `ba775-team9-b2.death_data_us.Mortailty_with_string_categories` as a\n",
    "    INNER JOIN (\n",
    "        SELECT count(*) as total_deaths_by_age, age_consolidated\n",
    "        FROM `ba775-team9-b2.death_data_us.Mortailty_with_string_categories`\n",
    "        where age_consolidated <> 'Age not stated'  and activity_code<>'N/A' and activity_code<>'Unspecified Activities'\n",
    "        GROUP BY age_consolidated\n",
    "        \n",
    "    ) as b\n",
    "    on a.age_consolidated = b.age_consolidated\n",
    "    WHERE a.age_consolidated <> 'Age not stated'  and a.activity_code<>'N/A' and a.activity_code not in ('Unspecified Activities','Other-Specified Activities')\n",
    "    and manner_of_death <>'Could not determine'\n",
    "    GROUP BY age_group, a.activity_code, manner_of_death, total_deaths_by_age\n",
    "    )\n",
    "\n",
    "    SELECT  * FROM activity_code_age order by percent_of_total desc\n",
    "    limit 10;\n"
   ]
  },
  {
   "cell_type": "markdown",
   "metadata": {
    "id": "iPuajtQybxYI"
   },
   "source": [
    "The data indicates that people at 65+ years, and 0-14 years had their highest % of deaths when facing accidents while engaged in vital activities."
   ]
  },
  {
   "cell_type": "markdown",
   "metadata": {
    "id": "op39qg8fc6TN"
   },
   "source": [
    "### Analyzing how place of injury is realted to % of deaths for a given age group:\n"
   ]
  },
  {
   "cell_type": "code",
   "execution_count": 25,
   "metadata": {
    "colab": {
     "base_uri": "https://localhost:8080/",
     "height": 359
    },
    "id": "X12Q-0nCi8az",
    "outputId": "c455f488-e731-403e-c094-fc162d7aa529"
   },
   "outputs": [
    {
     "data": {
      "text/html": [
       "<div>\n",
       "<style scoped>\n",
       "    .dataframe tbody tr th:only-of-type {\n",
       "        vertical-align: middle;\n",
       "    }\n",
       "\n",
       "    .dataframe tbody tr th {\n",
       "        vertical-align: top;\n",
       "    }\n",
       "\n",
       "    .dataframe thead th {\n",
       "        text-align: right;\n",
       "    }\n",
       "</style>\n",
       "<table border=\"1\" class=\"dataframe\">\n",
       "  <thead>\n",
       "    <tr style=\"text-align: right;\">\n",
       "      <th></th>\n",
       "      <th>age_consolidated</th>\n",
       "      <th>place_of_injury</th>\n",
       "      <th>death_by_place_of_injury</th>\n",
       "      <th>percent_of_total</th>\n",
       "    </tr>\n",
       "  </thead>\n",
       "  <tbody>\n",
       "    <tr>\n",
       "      <th>0</th>\n",
       "      <td>35-54years</td>\n",
       "      <td>Home</td>\n",
       "      <td>29389</td>\n",
       "      <td>24.0</td>\n",
       "    </tr>\n",
       "    <tr>\n",
       "      <th>1</th>\n",
       "      <td>65+years</td>\n",
       "      <td>Home</td>\n",
       "      <td>29720</td>\n",
       "      <td>24.0</td>\n",
       "    </tr>\n",
       "    <tr>\n",
       "      <th>2</th>\n",
       "      <td>15-34years</td>\n",
       "      <td>Home</td>\n",
       "      <td>21432</td>\n",
       "      <td>17.0</td>\n",
       "    </tr>\n",
       "    <tr>\n",
       "      <th>3</th>\n",
       "      <td>55-64years</td>\n",
       "      <td>Home</td>\n",
       "      <td>14572</td>\n",
       "      <td>12.0</td>\n",
       "    </tr>\n",
       "    <tr>\n",
       "      <th>4</th>\n",
       "      <td>65+years</td>\n",
       "      <td>Residential institution</td>\n",
       "      <td>8059</td>\n",
       "      <td>6.0</td>\n",
       "    </tr>\n",
       "    <tr>\n",
       "      <th>5</th>\n",
       "      <td>15-34years</td>\n",
       "      <td>Street and highway</td>\n",
       "      <td>3551</td>\n",
       "      <td>3.0</td>\n",
       "    </tr>\n",
       "    <tr>\n",
       "      <th>6</th>\n",
       "      <td>35-54years</td>\n",
       "      <td>Trade and service area</td>\n",
       "      <td>2393</td>\n",
       "      <td>2.0</td>\n",
       "    </tr>\n",
       "    <tr>\n",
       "      <th>7</th>\n",
       "      <td>0-14years</td>\n",
       "      <td>Home</td>\n",
       "      <td>2846</td>\n",
       "      <td>2.0</td>\n",
       "    </tr>\n",
       "    <tr>\n",
       "      <th>8</th>\n",
       "      <td>35-54years</td>\n",
       "      <td>Street and highway</td>\n",
       "      <td>2148</td>\n",
       "      <td>2.0</td>\n",
       "    </tr>\n",
       "    <tr>\n",
       "      <th>9</th>\n",
       "      <td>55-64years</td>\n",
       "      <td>Trade and service area</td>\n",
       "      <td>936</td>\n",
       "      <td>1.0</td>\n",
       "    </tr>\n",
       "  </tbody>\n",
       "</table>\n",
       "</div>"
      ],
      "text/plain": [
       "  age_consolidated  ... percent_of_total\n",
       "0       35-54years  ...             24.0\n",
       "1         65+years  ...             24.0\n",
       "2       15-34years  ...             17.0\n",
       "3       55-64years  ...             12.0\n",
       "4         65+years  ...              6.0\n",
       "5       15-34years  ...              3.0\n",
       "6       35-54years  ...              2.0\n",
       "7        0-14years  ...              2.0\n",
       "8       35-54years  ...              2.0\n",
       "9       55-64years  ...              1.0\n",
       "\n",
       "[10 rows x 4 columns]"
      ]
     },
     "execution_count": 25,
     "metadata": {},
     "output_type": "execute_result"
    }
   ],
   "source": [
    " %%bigquery --project=ba775-team9-b2\n",
    "select age_consolidated,\n",
    "        place_of_injury,\n",
    "        count(place_of_injury) as death_by_place_of_injury,\n",
    "        (round((count(place_of_injury)/total_death_count),2)*100) as percent_of_total\n",
    " FROM ( select count(*) as total_death_count\n",
    "from `ba775-team9-b2.death_data_us.Mortailty_with_string_categories`\n",
    "where place_of_injury not in ('Other or Not Recorded','Other Specified Places')\n",
    "),\n",
    " `ba775-team9-b2.death_data_us.Mortailty_with_string_categories`\n",
    " where place_of_injury not in ('Other or Not Recorded','Other Specified Places')\n",
    " group by age_consolidated,place_of_injury,total_death_count\n",
    " order by percent_of_total desc\n",
    " limit 10;"
   ]
  },
  {
   "cell_type": "markdown",
   "metadata": {
    "id": "hAockBP3d3B4"
   },
   "source": [
    "From the above query we observe that across age groups, most people faced injuries at home, and the lowest in sporting areas."
   ]
  },
  {
   "cell_type": "markdown",
   "metadata": {
    "id": "MseXo9OiddOE"
   },
   "source": [
    "## **Summary and Conclusions:**\n",
    "\n",
    "Through our analyses we investigated the relation between several demographic variables and mortality data in 2015.After initially observing a difference in death counts between males and females across age groups, we proceeded to analyze additional factors such as education level, manner of death, and place of injury. \n",
    "\n",
    "Although we observed that males have higher death counts, we see that males tend to have most deaths at younger ages than females do. When looking at deaths within each age group by day of the week, we saw that young adults tended to have a higher % of death on the weekends, while older age groups had more consistent % across the entire week. While analyzing death counts by manner of death, the data indicated that natural causes are the most common manner of death, whereas homicide was the least common manner of death. Lastly, the most common place of injury leading to death was at home for all age groups, and the least common place of injury was in a sports area.\n",
    "\n",
    "From our analyses we observed varying relationships between death counts and other variables in the dataset. While some of the conclusions were different by age group, such as day of the week, others showed more consistency across age groups, like place of injury. "
   ]
  },
  {
   "cell_type": "markdown",
   "metadata": {},
   "source": [
    "Dashboard Link:"
   ]
  },
  {
   "cell_type": "markdown",
   "metadata": {},
   "source": [
    "https://public.tableau.com/views/Project_Tableau_Team9/All_dashboards?:language=en-US&publish=yes&:display_count=n&:origin=viz_share_link"
   ]
  },
  {
   "cell_type": "markdown",
   "metadata": {},
   "source": [
    "![title](overview_deaths.jpeg)"
   ]
  },
  {
   "cell_type": "markdown",
   "metadata": {},
   "source": [
    "![title](age_education.jpeg)"
   ]
  },
  {
   "cell_type": "markdown",
   "metadata": {},
   "source": [
    "![title](education_injuryatwork.jpeg)"
   ]
  },
  {
   "cell_type": "markdown",
   "metadata": {},
   "source": [
    "![title](manner_death_place_of_injury.jpeg)"
   ]
  },
  {
   "cell_type": "markdown",
   "metadata": {},
   "source": [
    "![title](manner_death_activity.jpeg)"
   ]
  }
 ],
 "metadata": {
  "colab": {
   "collapsed_sections": [],
   "name": "Team9 Project_deaths2015_data_analysis.ipynb",
   "provenance": []
  },
  "environment": {
   "name": "common-cpu.m78",
   "type": "gcloud",
   "uri": "gcr.io/deeplearning-platform-release/base-cpu:m78"
  },
  "kernelspec": {
   "display_name": "Python 3",
   "language": "python",
   "name": "python3"
  },
  "language_info": {
   "codemirror_mode": {
    "name": "ipython",
    "version": 3
   },
   "file_extension": ".py",
   "mimetype": "text/x-python",
   "name": "python",
   "nbconvert_exporter": "python",
   "pygments_lexer": "ipython3",
   "version": "3.7.10"
  }
 },
 "nbformat": 4,
 "nbformat_minor": 4
}
