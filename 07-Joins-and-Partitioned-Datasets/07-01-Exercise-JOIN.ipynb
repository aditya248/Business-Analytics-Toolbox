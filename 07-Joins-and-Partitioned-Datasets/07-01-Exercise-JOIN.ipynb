{
 "cells": [
  {
   "cell_type": "markdown",
   "source": [
    "# Practice on JOINs\n",
    "We will use a few small datasets to get some more hands on experience on joins."
   ],
   "metadata": {}
  },
  {
   "cell_type": "code",
   "execution_count": 8,
   "source": [
    "#  Use this code to login to bigquery gcloud auth application-default login"
   ],
   "outputs": [],
   "metadata": {}
  },
  {
   "cell_type": "code",
   "execution_count": 4,
   "source": [
    "from google.cloud import bigquery\r\n",
    "%load_ext google.cloud.bigquery"
   ],
   "outputs": [],
   "metadata": {}
  },
  {
   "cell_type": "code",
   "execution_count": 5,
   "source": [
    "bigquery_client = bigquery.Client()"
   ],
   "outputs": [],
   "metadata": {}
  },
  {
   "cell_type": "code",
   "execution_count": 6,
   "source": [
    "# This cell is to enable the \"hint\" functionality. After each question there is a cell with either a hint about the correct answer or the solution. \r\n",
    "from IPython.display import Pretty as disp\r\n",
    "hint = 'https://raw.githubusercontent.com/soltaniehha/Business-Analytics-Toolbox/master/docs/hints/'  # path to hints on GitHub"
   ],
   "outputs": [],
   "metadata": {}
  },
  {
   "cell_type": "markdown",
   "source": [
    "First, let's have a look at these datasets:\n",
    "\n",
    "<img src=\"https://github.com/soltaniehha/Business-Analytics-Toolbox/blob/master/docs/images/sample-rows.png?raw=true\" width=\"1200\" align=\"center\"/>\n",
    "\n",
    "And their schemas:\n",
    "\n",
    "<img src=\"https://github.com/soltaniehha/Business-Analytics-Toolbox/blob/master/docs/images/sample-schema.png?raw=true\" width=\"400\" align=\"center\"/>\n",
    "\n",
    "We can also query them directly:"
   ],
   "metadata": {}
  },
  {
   "cell_type": "code",
   "execution_count": 64,
   "source": [
    "%%bigquery\r\n",
    "SELECT * FROM `ba-770.public.transactions`"
   ],
   "outputs": [
    {
     "output_type": "stream",
     "name": "stderr",
     "text": [
      "Query complete after 0.00s: 100%|██████████| 1/1 [00:00<00:00, 498.20query/s] \n",
      "Downloading: 100%|██████████| 6/6 [00:01<00:00,  4.17rows/s]\n"
     ]
    },
    {
     "output_type": "execute_result",
     "data": {
      "text/plain": [
       "   TransactionID  CustomerID  ProductID  Quantity        Date   Time\n",
       "0        4203847     8103954        444         1  2019-08-09  11:20\n",
       "1        4786540     8530495        444         1  2019-08-11  13:11\n",
       "2        4392037     8574930        222         1  2019-08-08   9:00\n",
       "3        4328790     8574930        111         3  2019-08-10   8:34\n",
       "4        4029348     8430294        444         2  2019-08-10  12:30\n",
       "5        4392564     8430294        222         2  2019-08-10  10:34"
      ],
      "text/html": [
       "<div>\n",
       "<style scoped>\n",
       "    .dataframe tbody tr th:only-of-type {\n",
       "        vertical-align: middle;\n",
       "    }\n",
       "\n",
       "    .dataframe tbody tr th {\n",
       "        vertical-align: top;\n",
       "    }\n",
       "\n",
       "    .dataframe thead th {\n",
       "        text-align: right;\n",
       "    }\n",
       "</style>\n",
       "<table border=\"1\" class=\"dataframe\">\n",
       "  <thead>\n",
       "    <tr style=\"text-align: right;\">\n",
       "      <th></th>\n",
       "      <th>TransactionID</th>\n",
       "      <th>CustomerID</th>\n",
       "      <th>ProductID</th>\n",
       "      <th>Quantity</th>\n",
       "      <th>Date</th>\n",
       "      <th>Time</th>\n",
       "    </tr>\n",
       "  </thead>\n",
       "  <tbody>\n",
       "    <tr>\n",
       "      <th>0</th>\n",
       "      <td>4203847</td>\n",
       "      <td>8103954</td>\n",
       "      <td>444</td>\n",
       "      <td>1</td>\n",
       "      <td>2019-08-09</td>\n",
       "      <td>11:20</td>\n",
       "    </tr>\n",
       "    <tr>\n",
       "      <th>1</th>\n",
       "      <td>4786540</td>\n",
       "      <td>8530495</td>\n",
       "      <td>444</td>\n",
       "      <td>1</td>\n",
       "      <td>2019-08-11</td>\n",
       "      <td>13:11</td>\n",
       "    </tr>\n",
       "    <tr>\n",
       "      <th>2</th>\n",
       "      <td>4392037</td>\n",
       "      <td>8574930</td>\n",
       "      <td>222</td>\n",
       "      <td>1</td>\n",
       "      <td>2019-08-08</td>\n",
       "      <td>9:00</td>\n",
       "    </tr>\n",
       "    <tr>\n",
       "      <th>3</th>\n",
       "      <td>4328790</td>\n",
       "      <td>8574930</td>\n",
       "      <td>111</td>\n",
       "      <td>3</td>\n",
       "      <td>2019-08-10</td>\n",
       "      <td>8:34</td>\n",
       "    </tr>\n",
       "    <tr>\n",
       "      <th>4</th>\n",
       "      <td>4029348</td>\n",
       "      <td>8430294</td>\n",
       "      <td>444</td>\n",
       "      <td>2</td>\n",
       "      <td>2019-08-10</td>\n",
       "      <td>12:30</td>\n",
       "    </tr>\n",
       "    <tr>\n",
       "      <th>5</th>\n",
       "      <td>4392564</td>\n",
       "      <td>8430294</td>\n",
       "      <td>222</td>\n",
       "      <td>2</td>\n",
       "      <td>2019-08-10</td>\n",
       "      <td>10:34</td>\n",
       "    </tr>\n",
       "  </tbody>\n",
       "</table>\n",
       "</div>"
      ]
     },
     "metadata": {},
     "execution_count": 64
    }
   ],
   "metadata": {}
  },
  {
   "cell_type": "code",
   "execution_count": 3,
   "source": [
    "%%bigquery\r\n",
    "SELECT * FROM `ba-770.public.product_info`"
   ],
   "outputs": [
    {
     "output_type": "stream",
     "name": "stderr",
     "text": [
      "UsageError: Cell magic `%%bigquery` not found.\n"
     ]
    }
   ],
   "metadata": {}
  },
  {
   "cell_type": "code",
   "execution_count": 4,
   "source": [
    "%%bigquery\r\n",
    "SELECT * FROM `ba-770.public.customer_info`"
   ],
   "outputs": [
    {
     "output_type": "execute_result",
     "data": {
      "text/plain": [
       "   CustomerID CustomerName                 Email       City  Age\n",
       "0     8530495         John  john_smith@yahoo.com     Boston   32\n",
       "1     8574930         Mary      mk_888@gmail.com     Boston   22\n",
       "2     8103954          Sue     ss_2000@gmail.com    Allston   36\n",
       "3     8430294         Alex     ag_23@hotmail.com  Brookline   21"
      ],
      "text/html": [
       "<div>\n",
       "<style scoped>\n",
       "    .dataframe tbody tr th:only-of-type {\n",
       "        vertical-align: middle;\n",
       "    }\n",
       "\n",
       "    .dataframe tbody tr th {\n",
       "        vertical-align: top;\n",
       "    }\n",
       "\n",
       "    .dataframe thead th {\n",
       "        text-align: right;\n",
       "    }\n",
       "</style>\n",
       "<table border=\"1\" class=\"dataframe\">\n",
       "  <thead>\n",
       "    <tr style=\"text-align: right;\">\n",
       "      <th></th>\n",
       "      <th>CustomerID</th>\n",
       "      <th>CustomerName</th>\n",
       "      <th>Email</th>\n",
       "      <th>City</th>\n",
       "      <th>Age</th>\n",
       "    </tr>\n",
       "  </thead>\n",
       "  <tbody>\n",
       "    <tr>\n",
       "      <th>0</th>\n",
       "      <td>8530495</td>\n",
       "      <td>John</td>\n",
       "      <td>john_smith@yahoo.com</td>\n",
       "      <td>Boston</td>\n",
       "      <td>32</td>\n",
       "    </tr>\n",
       "    <tr>\n",
       "      <th>1</th>\n",
       "      <td>8574930</td>\n",
       "      <td>Mary</td>\n",
       "      <td>mk_888@gmail.com</td>\n",
       "      <td>Boston</td>\n",
       "      <td>22</td>\n",
       "    </tr>\n",
       "    <tr>\n",
       "      <th>2</th>\n",
       "      <td>8103954</td>\n",
       "      <td>Sue</td>\n",
       "      <td>ss_2000@gmail.com</td>\n",
       "      <td>Allston</td>\n",
       "      <td>36</td>\n",
       "    </tr>\n",
       "    <tr>\n",
       "      <th>3</th>\n",
       "      <td>8430294</td>\n",
       "      <td>Alex</td>\n",
       "      <td>ag_23@hotmail.com</td>\n",
       "      <td>Brookline</td>\n",
       "      <td>21</td>\n",
       "    </tr>\n",
       "  </tbody>\n",
       "</table>\n",
       "</div>"
      ]
     },
     "metadata": {},
     "execution_count": 4
    }
   ],
   "metadata": {}
  },
  {
   "cell_type": "code",
   "execution_count": 5,
   "source": [
    "%%bigquery\r\n",
    "SELECT * FROM `ba-770.public.customer_info_past`"
   ],
   "outputs": [
    {
     "output_type": "execute_result",
     "data": {
      "text/plain": [
       "  CustomerName                  Email       City  Age  CustomerID\n",
       "0      Alberto         al99@gmail.com  Cambridge   25     8574839\n",
       "1        Maria  maria_lopez@yahoo.com  Brookline   43     8920395"
      ],
      "text/html": [
       "<div>\n",
       "<style scoped>\n",
       "    .dataframe tbody tr th:only-of-type {\n",
       "        vertical-align: middle;\n",
       "    }\n",
       "\n",
       "    .dataframe tbody tr th {\n",
       "        vertical-align: top;\n",
       "    }\n",
       "\n",
       "    .dataframe thead th {\n",
       "        text-align: right;\n",
       "    }\n",
       "</style>\n",
       "<table border=\"1\" class=\"dataframe\">\n",
       "  <thead>\n",
       "    <tr style=\"text-align: right;\">\n",
       "      <th></th>\n",
       "      <th>CustomerName</th>\n",
       "      <th>Email</th>\n",
       "      <th>City</th>\n",
       "      <th>Age</th>\n",
       "      <th>CustomerID</th>\n",
       "    </tr>\n",
       "  </thead>\n",
       "  <tbody>\n",
       "    <tr>\n",
       "      <th>0</th>\n",
       "      <td>Alberto</td>\n",
       "      <td>al99@gmail.com</td>\n",
       "      <td>Cambridge</td>\n",
       "      <td>25</td>\n",
       "      <td>8574839</td>\n",
       "    </tr>\n",
       "    <tr>\n",
       "      <th>1</th>\n",
       "      <td>Maria</td>\n",
       "      <td>maria_lopez@yahoo.com</td>\n",
       "      <td>Brookline</td>\n",
       "      <td>43</td>\n",
       "      <td>8920395</td>\n",
       "    </tr>\n",
       "  </tbody>\n",
       "</table>\n",
       "</div>"
      ]
     },
     "metadata": {},
     "execution_count": 5
    }
   ],
   "metadata": {}
  },
  {
   "cell_type": "markdown",
   "source": [
    "### Question1 \n",
    "Which product is the most popular one? (based on quantity)"
   ],
   "metadata": {}
  },
  {
   "cell_type": "code",
   "execution_count": 31,
   "source": [
    "%%bigquery\r\n",
    "SELECT * FROM `ba-770.public.product_info` WHERE id = (Select ProductID from \r\n",
    "                                                      (SELECT ProductID, SUM(Quantity) total FROM `ba-770.public.transactions` \r\n",
    "                                                       GROUP BY ProductID \r\n",
    "                                                       ORDER BY total DESC \r\n",
    "                                                       LIMIT 1))"
   ],
   "outputs": [
    {
     "output_type": "stream",
     "name": "stderr",
     "text": [
      "Query complete after 0.00s: 100%|██████████| 4/4 [00:00<00:00, 1349.19query/s]\n",
      "Downloading: 100%|██████████| 1/1 [00:01<00:00,  1.49s/rows]\n"
     ]
    },
    {
     "output_type": "execute_result",
     "data": {
      "text/plain": [
       "    ID   Name  Price\n",
       "0  444  Water   0.99"
      ],
      "text/html": [
       "<div>\n",
       "<style scoped>\n",
       "    .dataframe tbody tr th:only-of-type {\n",
       "        vertical-align: middle;\n",
       "    }\n",
       "\n",
       "    .dataframe tbody tr th {\n",
       "        vertical-align: top;\n",
       "    }\n",
       "\n",
       "    .dataframe thead th {\n",
       "        text-align: right;\n",
       "    }\n",
       "</style>\n",
       "<table border=\"1\" class=\"dataframe\">\n",
       "  <thead>\n",
       "    <tr style=\"text-align: right;\">\n",
       "      <th></th>\n",
       "      <th>ID</th>\n",
       "      <th>Name</th>\n",
       "      <th>Price</th>\n",
       "    </tr>\n",
       "  </thead>\n",
       "  <tbody>\n",
       "    <tr>\n",
       "      <th>0</th>\n",
       "      <td>444</td>\n",
       "      <td>Water</td>\n",
       "      <td>0.99</td>\n",
       "    </tr>\n",
       "  </tbody>\n",
       "</table>\n",
       "</div>"
      ]
     },
     "metadata": {},
     "execution_count": 31
    }
   ],
   "metadata": {}
  },
  {
   "cell_type": "code",
   "execution_count": 43,
   "source": [
    "%%bigquery\r\n",
    "\r\n",
    "SELECT A.ID, SUM(B.Quantity) total\r\n",
    "    FROM `ba-770.public.product_info` A \r\n",
    "    JOIN `ba-770.public.transactions` B\r\n",
    "    ON A.ID = B.ProductID\r\n",
    "GROUP BY A.ID\r\n",
    "ORDER BY total DESC\r\n",
    "LIMIT 1"
   ],
   "outputs": [
    {
     "output_type": "stream",
     "name": "stderr",
     "text": [
      "Query complete after 0.00s: 100%|██████████| 1/1 [00:00<00:00, 512.94query/s] \n",
      "Downloading: 100%|██████████| 1/1 [00:01<00:00,  1.51s/rows]\n"
     ]
    },
    {
     "output_type": "execute_result",
     "data": {
      "text/plain": [
       "    ID  total\n",
       "0  444      4"
      ],
      "text/html": [
       "<div>\n",
       "<style scoped>\n",
       "    .dataframe tbody tr th:only-of-type {\n",
       "        vertical-align: middle;\n",
       "    }\n",
       "\n",
       "    .dataframe tbody tr th {\n",
       "        vertical-align: top;\n",
       "    }\n",
       "\n",
       "    .dataframe thead th {\n",
       "        text-align: right;\n",
       "    }\n",
       "</style>\n",
       "<table border=\"1\" class=\"dataframe\">\n",
       "  <thead>\n",
       "    <tr style=\"text-align: right;\">\n",
       "      <th></th>\n",
       "      <th>ID</th>\n",
       "      <th>total</th>\n",
       "    </tr>\n",
       "  </thead>\n",
       "  <tbody>\n",
       "    <tr>\n",
       "      <th>0</th>\n",
       "      <td>444</td>\n",
       "      <td>4</td>\n",
       "    </tr>\n",
       "  </tbody>\n",
       "</table>\n",
       "</div>"
      ]
     },
     "metadata": {},
     "execution_count": 43
    }
   ],
   "metadata": {}
  },
  {
   "cell_type": "markdown",
   "source": [
    "We can see that it is product 444 (bought 4 times), and from the `product_info` table we can see that it's water. \n",
    "\n",
    "Can you write a JOIN statement that does this match finding for us automatically so we don't need to look up another table?"
   ],
   "metadata": {}
  },
  {
   "cell_type": "code",
   "execution_count": 7,
   "source": [
    "# Your answer goes here"
   ],
   "outputs": [
    {
     "output_type": "execute_result",
     "data": {
      "text/plain": [
       "QueryResultsTable job_ZNWfJB6hdLrtYG70lmiGrTAWuEw7"
      ],
      "text/html": [
       "\n",
       "    <div class=\"bqtv\" id=\"6_156556707938\"><table><tr><th>ProductID</th><th>total</th><th>Name</th></tr><tr><td>444</td><td>4</td><td>Water</td></tr><tr><td>222</td><td>3</td><td>Milk 3%</td></tr><tr><td>111</td><td>3</td><td>Orange Juice</td></tr></table></div>\n",
       "    <br />(rows: 3, time: 0.1s, cached, job: job_ZNWfJB6hdLrtYG70lmiGrTAWuEw7)<br />\n",
       "    <script src=\"/static/components/requirejs/require.js\"></script>\n",
       "    <script>\n",
       "      require.config({\n",
       "        paths: {\n",
       "          base: '/static/base',\n",
       "          d3: '//cdnjs.cloudflare.com/ajax/libs/d3/3.4.13/d3',\n",
       "          plotly: 'https://cdn.plot.ly/plotly-1.5.1.min.js?noext',\n",
       "          jquery: '//ajax.googleapis.com/ajax/libs/jquery/2.0.0/jquery.min'\n",
       "        },\n",
       "        map: {\n",
       "          '*': {\n",
       "            datalab: 'nbextensions/gcpdatalab'\n",
       "          }\n",
       "        },\n",
       "        shim: {\n",
       "          plotly: {\n",
       "            deps: ['d3', 'jquery'],\n",
       "            exports: 'plotly'\n",
       "          }\n",
       "        }\n",
       "      });\n",
       "\n",
       "      require(['datalab/charting', 'datalab/element!6_156556707938', 'base/js/events',\n",
       "          'datalab/style!/nbextensions/gcpdatalab/charting.css'],\n",
       "        function(charts, dom, events) {\n",
       "          charts.render('gcharts', dom, events, 'table', [], {\"cols\": [{\"type\": \"number\", \"id\": \"ProductID\", \"label\": \"ProductID\"}, {\"type\": \"number\", \"id\": \"total\", \"label\": \"total\"}, {\"type\": \"string\", \"id\": \"Name\", \"label\": \"Name\"}], \"rows\": [{\"c\": [{\"v\": 444}, {\"v\": 4}, {\"v\": \"Water\"}]}, {\"c\": [{\"v\": 222}, {\"v\": 3}, {\"v\": \"Milk 3%\"}]}, {\"c\": [{\"v\": 111}, {\"v\": 3}, {\"v\": \"Orange Juice\"}]}]},\n",
       "            {\n",
       "              pageSize: 25,\n",
       "              cssClassNames:  {\n",
       "                tableRow: 'gchart-table-row',\n",
       "                headerRow: 'gchart-table-headerrow',\n",
       "                oddTableRow: 'gchart-table-oddrow',\n",
       "                selectedTableRow: 'gchart-table-selectedrow',\n",
       "                hoverTableRow: 'gchart-table-hoverrow',\n",
       "                tableCell: 'gchart-table-cell',\n",
       "                headerCell: 'gchart-table-headercell',\n",
       "                rowNumberCell: 'gchart-table-rownumcell'\n",
       "              }\n",
       "            },\n",
       "            {source_index: 5, fields: 'ProductID,total,Name'},\n",
       "            0,\n",
       "            3);\n",
       "        }\n",
       "      );\n",
       "    </script>\n",
       "  "
      ]
     },
     "metadata": {},
     "execution_count": 7
    }
   ],
   "metadata": {}
  },
  {
   "cell_type": "code",
   "execution_count": 15,
   "source": [
    "# HINT: Uncomment and execute the cell below to get help\r\n",
    "#disp(hint + '06-03-prod-join-hint')"
   ],
   "outputs": [],
   "metadata": {}
  },
  {
   "cell_type": "code",
   "execution_count": 9,
   "source": [
    "# SOLUTION: Uncomment and execute the cell below to get help\r\n",
    "#disp(hint + '06-03-prod-join')"
   ],
   "outputs": [],
   "metadata": {}
  },
  {
   "cell_type": "markdown",
   "source": [
    "### Question 2\n",
    "What was the revenue generated by each product? List it by their names.\n",
    "\n",
    "Try to reuse the query from the previous question with modifications."
   ],
   "metadata": {}
  },
  {
   "cell_type": "code",
   "execution_count": 50,
   "source": [
    "%%bigquery\r\n",
    "\r\n",
    "SELECT A.Name, SUM(B.Quantity * A.Price) total\r\n",
    "    FROM `ba-770.public.product_info` A \r\n",
    "    JOIN `ba-770.public.transactions` B\r\n",
    "    ON A.ID = B.ProductID\r\n",
    "GROUP BY A.Name\r\n",
    "ORDER BY total DESC"
   ],
   "outputs": [
    {
     "output_type": "stream",
     "name": "stderr",
     "text": [
      "Query complete after 0.00s: 100%|██████████| 1/1 [00:00<00:00, 1001.98query/s]\n",
      "Downloading: 100%|██████████| 3/3 [00:01<00:00,  2.30rows/s]\n"
     ]
    },
    {
     "output_type": "execute_result",
     "data": {
      "text/plain": [
       "           Name  total\n",
       "0  Orange Juice  10.47\n",
       "1       Milk 3%   8.85\n",
       "2         Water   3.96"
      ],
      "text/html": [
       "<div>\n",
       "<style scoped>\n",
       "    .dataframe tbody tr th:only-of-type {\n",
       "        vertical-align: middle;\n",
       "    }\n",
       "\n",
       "    .dataframe tbody tr th {\n",
       "        vertical-align: top;\n",
       "    }\n",
       "\n",
       "    .dataframe thead th {\n",
       "        text-align: right;\n",
       "    }\n",
       "</style>\n",
       "<table border=\"1\" class=\"dataframe\">\n",
       "  <thead>\n",
       "    <tr style=\"text-align: right;\">\n",
       "      <th></th>\n",
       "      <th>Name</th>\n",
       "      <th>total</th>\n",
       "    </tr>\n",
       "  </thead>\n",
       "  <tbody>\n",
       "    <tr>\n",
       "      <th>0</th>\n",
       "      <td>Orange Juice</td>\n",
       "      <td>10.47</td>\n",
       "    </tr>\n",
       "    <tr>\n",
       "      <th>1</th>\n",
       "      <td>Milk 3%</td>\n",
       "      <td>8.85</td>\n",
       "    </tr>\n",
       "    <tr>\n",
       "      <th>2</th>\n",
       "      <td>Water</td>\n",
       "      <td>3.96</td>\n",
       "    </tr>\n",
       "  </tbody>\n",
       "</table>\n",
       "</div>"
      ]
     },
     "metadata": {},
     "execution_count": 50
    }
   ],
   "metadata": {}
  },
  {
   "cell_type": "code",
   "execution_count": 11,
   "source": [
    "# SOLUTION: Uncomment and execute the cell below to get help\r\n",
    "#disp(hint + '06-03-prod-rev')"
   ],
   "outputs": [],
   "metadata": {}
  },
  {
   "cell_type": "markdown",
   "source": [
    "### Question 3\n",
    "List all of the customers (current and past) and display all of the products they have purchased."
   ],
   "metadata": {}
  },
  {
   "cell_type": "markdown",
   "source": [
    "#### Step1\n",
    "As the first step let's combine both of our customer datasets:"
   ],
   "metadata": {}
  },
  {
   "cell_type": "code",
   "execution_count": 48,
   "source": [
    "%%bigquery\r\n",
    "\r\n",
    "SELECT CustomerID, CustomerName, Email, City, Age\r\n",
    "    FROM `ba-770.public.customer_info`\r\n",
    "UNION DISTINCT \r\n",
    "Select CustomerID, CustomerName, Email, City, Age\r\n",
    "    FROM `ba-770.public.customer_info_past`"
   ],
   "outputs": [
    {
     "output_type": "stream",
     "name": "stderr",
     "text": [
      "Query complete after 0.00s: 100%|██████████| 2/2 [00:00<00:00, 668.04query/s] \n",
      "Downloading: 100%|██████████| 6/6 [00:01<00:00,  3.81rows/s]\n"
     ]
    },
    {
     "output_type": "execute_result",
     "data": {
      "text/plain": [
       "   CustomerID CustomerName                  Email       City  Age\n",
       "0     8574839      Alberto         al99@gmail.com  Cambridge   25\n",
       "1     8920395        Maria  maria_lopez@yahoo.com  Brookline   43\n",
       "2     8530495         John   john_smith@yahoo.com     Boston   32\n",
       "3     8574930         Mary       mk_888@gmail.com     Boston   22\n",
       "4     8103954          Sue      ss_2000@gmail.com    Allston   36\n",
       "5     8430294         Alex      ag_23@hotmail.com  Brookline   21"
      ],
      "text/html": [
       "<div>\n",
       "<style scoped>\n",
       "    .dataframe tbody tr th:only-of-type {\n",
       "        vertical-align: middle;\n",
       "    }\n",
       "\n",
       "    .dataframe tbody tr th {\n",
       "        vertical-align: top;\n",
       "    }\n",
       "\n",
       "    .dataframe thead th {\n",
       "        text-align: right;\n",
       "    }\n",
       "</style>\n",
       "<table border=\"1\" class=\"dataframe\">\n",
       "  <thead>\n",
       "    <tr style=\"text-align: right;\">\n",
       "      <th></th>\n",
       "      <th>CustomerID</th>\n",
       "      <th>CustomerName</th>\n",
       "      <th>Email</th>\n",
       "      <th>City</th>\n",
       "      <th>Age</th>\n",
       "    </tr>\n",
       "  </thead>\n",
       "  <tbody>\n",
       "    <tr>\n",
       "      <th>0</th>\n",
       "      <td>8574839</td>\n",
       "      <td>Alberto</td>\n",
       "      <td>al99@gmail.com</td>\n",
       "      <td>Cambridge</td>\n",
       "      <td>25</td>\n",
       "    </tr>\n",
       "    <tr>\n",
       "      <th>1</th>\n",
       "      <td>8920395</td>\n",
       "      <td>Maria</td>\n",
       "      <td>maria_lopez@yahoo.com</td>\n",
       "      <td>Brookline</td>\n",
       "      <td>43</td>\n",
       "    </tr>\n",
       "    <tr>\n",
       "      <th>2</th>\n",
       "      <td>8530495</td>\n",
       "      <td>John</td>\n",
       "      <td>john_smith@yahoo.com</td>\n",
       "      <td>Boston</td>\n",
       "      <td>32</td>\n",
       "    </tr>\n",
       "    <tr>\n",
       "      <th>3</th>\n",
       "      <td>8574930</td>\n",
       "      <td>Mary</td>\n",
       "      <td>mk_888@gmail.com</td>\n",
       "      <td>Boston</td>\n",
       "      <td>22</td>\n",
       "    </tr>\n",
       "    <tr>\n",
       "      <th>4</th>\n",
       "      <td>8103954</td>\n",
       "      <td>Sue</td>\n",
       "      <td>ss_2000@gmail.com</td>\n",
       "      <td>Allston</td>\n",
       "      <td>36</td>\n",
       "    </tr>\n",
       "    <tr>\n",
       "      <th>5</th>\n",
       "      <td>8430294</td>\n",
       "      <td>Alex</td>\n",
       "      <td>ag_23@hotmail.com</td>\n",
       "      <td>Brookline</td>\n",
       "      <td>21</td>\n",
       "    </tr>\n",
       "  </tbody>\n",
       "</table>\n",
       "</div>"
      ]
     },
     "metadata": {},
     "execution_count": 48
    }
   ],
   "metadata": {}
  },
  {
   "cell_type": "code",
   "execution_count": 12,
   "source": [
    "# Your answer goes here"
   ],
   "outputs": [
    {
     "output_type": "execute_result",
     "data": {
      "text/plain": [
       "QueryResultsTable job_s4J2JMiDKO7njF90vDda8j-YKmDZ"
      ],
      "text/html": [
       "\n",
       "    <div class=\"bqtv\" id=\"8_156556708339\"><table><tr><th>CustomerID</th><th>CustomerName</th><th>Email</th><th>City</th><th>Age</th></tr><tr><td>8574839</td><td>Alberto</td><td>al99@gmail.com</td><td>Cambridge</td><td>25</td></tr><tr><td>8920395</td><td>Maria</td><td>maria_lopez@yahoo.com</td><td>Brookline</td><td>43</td></tr><tr><td>8530495</td><td>John</td><td>john_smith@yahoo.com</td><td>Boston</td><td>32</td></tr><tr><td>8574930</td><td>Mary</td><td>mk_888@gmail.com</td><td>Boston</td><td>22</td></tr><tr><td>8103954</td><td>Sue</td><td>ss_2000@gmail.com</td><td>Allston</td><td>36</td></tr><tr><td>8430294</td><td>Alex</td><td>ag_23@hotmail.com</td><td>Brookline</td><td>21</td></tr></table></div>\n",
       "    <br />(rows: 6, time: 0.4s,   310B processed, job: job_s4J2JMiDKO7njF90vDda8j-YKmDZ)<br />\n",
       "    <script src=\"/static/components/requirejs/require.js\"></script>\n",
       "    <script>\n",
       "      require.config({\n",
       "        paths: {\n",
       "          base: '/static/base',\n",
       "          d3: '//cdnjs.cloudflare.com/ajax/libs/d3/3.4.13/d3',\n",
       "          plotly: 'https://cdn.plot.ly/plotly-1.5.1.min.js?noext',\n",
       "          jquery: '//ajax.googleapis.com/ajax/libs/jquery/2.0.0/jquery.min'\n",
       "        },\n",
       "        map: {\n",
       "          '*': {\n",
       "            datalab: 'nbextensions/gcpdatalab'\n",
       "          }\n",
       "        },\n",
       "        shim: {\n",
       "          plotly: {\n",
       "            deps: ['d3', 'jquery'],\n",
       "            exports: 'plotly'\n",
       "          }\n",
       "        }\n",
       "      });\n",
       "\n",
       "      require(['datalab/charting', 'datalab/element!8_156556708339', 'base/js/events',\n",
       "          'datalab/style!/nbextensions/gcpdatalab/charting.css'],\n",
       "        function(charts, dom, events) {\n",
       "          charts.render('gcharts', dom, events, 'table', [], {\"cols\": [{\"type\": \"number\", \"id\": \"CustomerID\", \"label\": \"CustomerID\"}, {\"type\": \"string\", \"id\": \"CustomerName\", \"label\": \"CustomerName\"}, {\"type\": \"string\", \"id\": \"Email\", \"label\": \"Email\"}, {\"type\": \"string\", \"id\": \"City\", \"label\": \"City\"}, {\"type\": \"number\", \"id\": \"Age\", \"label\": \"Age\"}], \"rows\": [{\"c\": [{\"v\": 8574839}, {\"v\": \"Alberto\"}, {\"v\": \"al99@gmail.com\"}, {\"v\": \"Cambridge\"}, {\"v\": 25}]}, {\"c\": [{\"v\": 8920395}, {\"v\": \"Maria\"}, {\"v\": \"maria_lopez@yahoo.com\"}, {\"v\": \"Brookline\"}, {\"v\": 43}]}, {\"c\": [{\"v\": 8530495}, {\"v\": \"John\"}, {\"v\": \"john_smith@yahoo.com\"}, {\"v\": \"Boston\"}, {\"v\": 32}]}, {\"c\": [{\"v\": 8574930}, {\"v\": \"Mary\"}, {\"v\": \"mk_888@gmail.com\"}, {\"v\": \"Boston\"}, {\"v\": 22}]}, {\"c\": [{\"v\": 8103954}, {\"v\": \"Sue\"}, {\"v\": \"ss_2000@gmail.com\"}, {\"v\": \"Allston\"}, {\"v\": 36}]}, {\"c\": [{\"v\": 8430294}, {\"v\": \"Alex\"}, {\"v\": \"ag_23@hotmail.com\"}, {\"v\": \"Brookline\"}, {\"v\": 21}]}]},\n",
       "            {\n",
       "              pageSize: 25,\n",
       "              cssClassNames:  {\n",
       "                tableRow: 'gchart-table-row',\n",
       "                headerRow: 'gchart-table-headerrow',\n",
       "                oddTableRow: 'gchart-table-oddrow',\n",
       "                selectedTableRow: 'gchart-table-selectedrow',\n",
       "                hoverTableRow: 'gchart-table-hoverrow',\n",
       "                tableCell: 'gchart-table-cell',\n",
       "                headerCell: 'gchart-table-headercell',\n",
       "                rowNumberCell: 'gchart-table-rownumcell'\n",
       "              }\n",
       "            },\n",
       "            {source_index: 7, fields: 'CustomerID,CustomerName,Email,City,Age'},\n",
       "            0,\n",
       "            6);\n",
       "        }\n",
       "      );\n",
       "    </script>\n",
       "  "
      ]
     },
     "metadata": {},
     "execution_count": 12
    }
   ],
   "metadata": {}
  },
  {
   "cell_type": "code",
   "execution_count": 13,
   "source": [
    "# HINT: Uncomment and execute the cell below to get help\r\n",
    "#disp(hint + '06-03-cust-union-hint')"
   ],
   "outputs": [],
   "metadata": {}
  },
  {
   "cell_type": "code",
   "execution_count": 14,
   "source": [
    "# SOLUTION: Uncomment and execute the cell below to get help\r\n",
    "#disp(hint + '06-03-cust-union')"
   ],
   "outputs": [],
   "metadata": {}
  },
  {
   "cell_type": "markdown",
   "source": [
    "#### Step2\n",
    "Now we can use this new query to find what these customers have purchased. For this step let's join this query with our transactions table to find out what products they have been purchasing:"
   ],
   "metadata": {}
  },
  {
   "cell_type": "code",
   "execution_count": 68,
   "source": [
    "%%bigquery\r\n",
    "\r\n",
    "Select \r\n",
    "C.CustomerName, T.ProductID from (SELECT CustomerID, CustomerName, Email, City, Age FROM `ba-770.public.customer_info` UNION DISTINCT Select CustomerID, CustomerName, Email, City, Age FROM `ba-770.public.customer_info_past`) C\r\n",
    "    JOIN `ba-770.public.transactions` T\r\n",
    "    ON C.CustomerID = T.CustomerID\r\n"
   ],
   "outputs": [
    {
     "output_type": "stream",
     "name": "stderr",
     "text": [
      "Query complete after 0.00s: 100%|██████████| 3/3 [00:00<00:00, 1504.95query/s]\n",
      "Downloading: 100%|██████████| 6/6 [00:01<00:00,  4.43rows/s]\n"
     ]
    },
    {
     "output_type": "execute_result",
     "data": {
      "text/plain": [
       "  CustomerName  ProductID\n",
       "0         John        444\n",
       "1         Mary        222\n",
       "2         Mary        111\n",
       "3          Sue        444\n",
       "4         Alex        444\n",
       "5         Alex        222"
      ],
      "text/html": [
       "<div>\n",
       "<style scoped>\n",
       "    .dataframe tbody tr th:only-of-type {\n",
       "        vertical-align: middle;\n",
       "    }\n",
       "\n",
       "    .dataframe tbody tr th {\n",
       "        vertical-align: top;\n",
       "    }\n",
       "\n",
       "    .dataframe thead th {\n",
       "        text-align: right;\n",
       "    }\n",
       "</style>\n",
       "<table border=\"1\" class=\"dataframe\">\n",
       "  <thead>\n",
       "    <tr style=\"text-align: right;\">\n",
       "      <th></th>\n",
       "      <th>CustomerName</th>\n",
       "      <th>ProductID</th>\n",
       "    </tr>\n",
       "  </thead>\n",
       "  <tbody>\n",
       "    <tr>\n",
       "      <th>0</th>\n",
       "      <td>John</td>\n",
       "      <td>444</td>\n",
       "    </tr>\n",
       "    <tr>\n",
       "      <th>1</th>\n",
       "      <td>Mary</td>\n",
       "      <td>222</td>\n",
       "    </tr>\n",
       "    <tr>\n",
       "      <th>2</th>\n",
       "      <td>Mary</td>\n",
       "      <td>111</td>\n",
       "    </tr>\n",
       "    <tr>\n",
       "      <th>3</th>\n",
       "      <td>Sue</td>\n",
       "      <td>444</td>\n",
       "    </tr>\n",
       "    <tr>\n",
       "      <th>4</th>\n",
       "      <td>Alex</td>\n",
       "      <td>444</td>\n",
       "    </tr>\n",
       "    <tr>\n",
       "      <th>5</th>\n",
       "      <td>Alex</td>\n",
       "      <td>222</td>\n",
       "    </tr>\n",
       "  </tbody>\n",
       "</table>\n",
       "</div>"
      ]
     },
     "metadata": {},
     "execution_count": 68
    }
   ],
   "metadata": {}
  },
  {
   "cell_type": "code",
   "execution_count": 15,
   "source": [
    "# Your answer goes here"
   ],
   "outputs": [
    {
     "output_type": "execute_result",
     "data": {
      "text/plain": [
       "QueryResultsTable job_Dyatbub1C8COnO6GpEbFg4eDciSl"
      ],
      "text/html": [
       "\n",
       "    <div class=\"bqtv\" id=\"9_156556708563\"><table><tr><th>CustomerName</th><th>ProductID</th></tr><tr><td>John</td><td>444</td></tr><tr><td>Mary</td><td>222</td></tr><tr><td>Mary</td><td>111</td></tr><tr><td>Sue</td><td>444</td></tr><tr><td>Alex</td><td>444</td></tr><tr><td>Alex</td><td>222</td></tr><tr><td>Alberto</td><td>&nbsp;</td></tr><tr><td>Maria</td><td>&nbsp;</td></tr></table></div>\n",
       "    <br />(rows: 8, time: 0.6s,   406B processed, job: job_Dyatbub1C8COnO6GpEbFg4eDciSl)<br />\n",
       "    <script src=\"/static/components/requirejs/require.js\"></script>\n",
       "    <script>\n",
       "      require.config({\n",
       "        paths: {\n",
       "          base: '/static/base',\n",
       "          d3: '//cdnjs.cloudflare.com/ajax/libs/d3/3.4.13/d3',\n",
       "          plotly: 'https://cdn.plot.ly/plotly-1.5.1.min.js?noext',\n",
       "          jquery: '//ajax.googleapis.com/ajax/libs/jquery/2.0.0/jquery.min'\n",
       "        },\n",
       "        map: {\n",
       "          '*': {\n",
       "            datalab: 'nbextensions/gcpdatalab'\n",
       "          }\n",
       "        },\n",
       "        shim: {\n",
       "          plotly: {\n",
       "            deps: ['d3', 'jquery'],\n",
       "            exports: 'plotly'\n",
       "          }\n",
       "        }\n",
       "      });\n",
       "\n",
       "      require(['datalab/charting', 'datalab/element!9_156556708563', 'base/js/events',\n",
       "          'datalab/style!/nbextensions/gcpdatalab/charting.css'],\n",
       "        function(charts, dom, events) {\n",
       "          charts.render('gcharts', dom, events, 'table', [], {\"cols\": [{\"type\": \"string\", \"id\": \"CustomerName\", \"label\": \"CustomerName\"}, {\"type\": \"number\", \"id\": \"ProductID\", \"label\": \"ProductID\"}], \"rows\": [{\"c\": [{\"v\": \"John\"}, {\"v\": 444}]}, {\"c\": [{\"v\": \"Mary\"}, {\"v\": 222}]}, {\"c\": [{\"v\": \"Mary\"}, {\"v\": 111}]}, {\"c\": [{\"v\": \"Sue\"}, {\"v\": 444}]}, {\"c\": [{\"v\": \"Alex\"}, {\"v\": 444}]}, {\"c\": [{\"v\": \"Alex\"}, {\"v\": 222}]}, {\"c\": [{\"v\": \"Alberto\"}, {\"v\": null}]}, {\"c\": [{\"v\": \"Maria\"}, {\"v\": null}]}]},\n",
       "            {\n",
       "              pageSize: 25,\n",
       "              cssClassNames:  {\n",
       "                tableRow: 'gchart-table-row',\n",
       "                headerRow: 'gchart-table-headerrow',\n",
       "                oddTableRow: 'gchart-table-oddrow',\n",
       "                selectedTableRow: 'gchart-table-selectedrow',\n",
       "                hoverTableRow: 'gchart-table-hoverrow',\n",
       "                tableCell: 'gchart-table-cell',\n",
       "                headerCell: 'gchart-table-headercell',\n",
       "                rowNumberCell: 'gchart-table-rownumcell'\n",
       "              }\n",
       "            },\n",
       "            {source_index: 8, fields: 'CustomerName,ProductID'},\n",
       "            0,\n",
       "            8);\n",
       "        }\n",
       "      );\n",
       "    </script>\n",
       "  "
      ]
     },
     "metadata": {},
     "execution_count": 15
    }
   ],
   "metadata": {}
  },
  {
   "cell_type": "code",
   "execution_count": 16,
   "source": [
    "# SOLUTION: Uncomment and execute the cell below to get help\r\n",
    "#disp(hint + '06-03-cust-union-trans')"
   ],
   "outputs": [],
   "metadata": {}
  },
  {
   "cell_type": "markdown",
   "source": [
    "#### Step3\n",
    "We can \"chain\" another join to the one above and bring in the product names:"
   ],
   "metadata": {}
  },
  {
   "cell_type": "code",
   "execution_count": 75,
   "source": [
    "%%bigquery\r\n",
    "Select \r\n",
    "C.CustomerName, T.ProductID, P.Name from (SELECT CustomerID, CustomerName, Email, City, Age FROM `ba-770.public.customer_info` UNION DISTINCT Select CustomerID, CustomerName, Email, City, Age FROM `ba-770.public.customer_info_past`) C\r\n",
    "    JOIN `ba-770.public.transactions` T\r\n",
    "    ON C.CustomerID = T.CustomerID\r\n",
    "    JOIN `ba-770.public.product_info` P  \r\n",
    "    ON P.ID = T.ProductID"
   ],
   "outputs": [
    {
     "output_type": "stream",
     "name": "stderr",
     "text": [
      "Query complete after 0.00s: 100%|██████████| 5/5 [00:00<00:00, 2503.17query/s]\n",
      "Downloading: 100%|██████████| 6/6 [00:01<00:00,  4.46rows/s]\n"
     ]
    },
    {
     "output_type": "execute_result",
     "data": {
      "text/plain": [
       "  CustomerName  ProductID          Name\n",
       "0          Sue        444         Water\n",
       "1         John        444         Water\n",
       "2         Mary        222       Milk 3%\n",
       "3         Mary        111  Orange Juice\n",
       "4         Alex        444         Water\n",
       "5         Alex        222       Milk 3%"
      ],
      "text/html": [
       "<div>\n",
       "<style scoped>\n",
       "    .dataframe tbody tr th:only-of-type {\n",
       "        vertical-align: middle;\n",
       "    }\n",
       "\n",
       "    .dataframe tbody tr th {\n",
       "        vertical-align: top;\n",
       "    }\n",
       "\n",
       "    .dataframe thead th {\n",
       "        text-align: right;\n",
       "    }\n",
       "</style>\n",
       "<table border=\"1\" class=\"dataframe\">\n",
       "  <thead>\n",
       "    <tr style=\"text-align: right;\">\n",
       "      <th></th>\n",
       "      <th>CustomerName</th>\n",
       "      <th>ProductID</th>\n",
       "      <th>Name</th>\n",
       "    </tr>\n",
       "  </thead>\n",
       "  <tbody>\n",
       "    <tr>\n",
       "      <th>0</th>\n",
       "      <td>Sue</td>\n",
       "      <td>444</td>\n",
       "      <td>Water</td>\n",
       "    </tr>\n",
       "    <tr>\n",
       "      <th>1</th>\n",
       "      <td>John</td>\n",
       "      <td>444</td>\n",
       "      <td>Water</td>\n",
       "    </tr>\n",
       "    <tr>\n",
       "      <th>2</th>\n",
       "      <td>Mary</td>\n",
       "      <td>222</td>\n",
       "      <td>Milk 3%</td>\n",
       "    </tr>\n",
       "    <tr>\n",
       "      <th>3</th>\n",
       "      <td>Mary</td>\n",
       "      <td>111</td>\n",
       "      <td>Orange Juice</td>\n",
       "    </tr>\n",
       "    <tr>\n",
       "      <th>4</th>\n",
       "      <td>Alex</td>\n",
       "      <td>444</td>\n",
       "      <td>Water</td>\n",
       "    </tr>\n",
       "    <tr>\n",
       "      <th>5</th>\n",
       "      <td>Alex</td>\n",
       "      <td>222</td>\n",
       "      <td>Milk 3%</td>\n",
       "    </tr>\n",
       "  </tbody>\n",
       "</table>\n",
       "</div>"
      ]
     },
     "metadata": {},
     "execution_count": 75
    }
   ],
   "metadata": {}
  },
  {
   "cell_type": "code",
   "execution_count": 17,
   "source": [
    "# Your answer goes here"
   ],
   "outputs": [
    {
     "output_type": "execute_result",
     "data": {
      "text/plain": [
       "QueryResultsTable job_QFhOXNfvfxvBsiyMxmYv9YHTpDyn"
      ],
      "text/html": [
       "\n",
       "    <div class=\"bqtv\" id=\"10_156556708727\"><table><tr><th>CustomerName</th><th>ProductID</th><th>ProdcutName</th></tr><tr><td>John</td><td>444</td><td>Water</td></tr><tr><td>Mary</td><td>222</td><td>Milk 3%</td></tr><tr><td>Mary</td><td>111</td><td>Orange Juice</td></tr><tr><td>Sue</td><td>444</td><td>Water</td></tr><tr><td>Alex</td><td>444</td><td>Water</td></tr><tr><td>Alex</td><td>222</td><td>Milk 3%</td></tr><tr><td>Alberto</td><td>&nbsp;</td><td>&nbsp;</td></tr><tr><td>Maria</td><td>&nbsp;</td><td>&nbsp;</td></tr></table></div>\n",
       "    <br />(rows: 8, time: 0.2s, cached, job: job_QFhOXNfvfxvBsiyMxmYv9YHTpDyn)<br />\n",
       "    <script src=\"/static/components/requirejs/require.js\"></script>\n",
       "    <script>\n",
       "      require.config({\n",
       "        paths: {\n",
       "          base: '/static/base',\n",
       "          d3: '//cdnjs.cloudflare.com/ajax/libs/d3/3.4.13/d3',\n",
       "          plotly: 'https://cdn.plot.ly/plotly-1.5.1.min.js?noext',\n",
       "          jquery: '//ajax.googleapis.com/ajax/libs/jquery/2.0.0/jquery.min'\n",
       "        },\n",
       "        map: {\n",
       "          '*': {\n",
       "            datalab: 'nbextensions/gcpdatalab'\n",
       "          }\n",
       "        },\n",
       "        shim: {\n",
       "          plotly: {\n",
       "            deps: ['d3', 'jquery'],\n",
       "            exports: 'plotly'\n",
       "          }\n",
       "        }\n",
       "      });\n",
       "\n",
       "      require(['datalab/charting', 'datalab/element!10_156556708727', 'base/js/events',\n",
       "          'datalab/style!/nbextensions/gcpdatalab/charting.css'],\n",
       "        function(charts, dom, events) {\n",
       "          charts.render('gcharts', dom, events, 'table', [], {\"cols\": [{\"type\": \"string\", \"id\": \"CustomerName\", \"label\": \"CustomerName\"}, {\"type\": \"number\", \"id\": \"ProductID\", \"label\": \"ProductID\"}, {\"type\": \"string\", \"id\": \"ProdcutName\", \"label\": \"ProdcutName\"}], \"rows\": [{\"c\": [{\"v\": \"John\"}, {\"v\": 444}, {\"v\": \"Water\"}]}, {\"c\": [{\"v\": \"Mary\"}, {\"v\": 222}, {\"v\": \"Milk 3%\"}]}, {\"c\": [{\"v\": \"Mary\"}, {\"v\": 111}, {\"v\": \"Orange Juice\"}]}, {\"c\": [{\"v\": \"Sue\"}, {\"v\": 444}, {\"v\": \"Water\"}]}, {\"c\": [{\"v\": \"Alex\"}, {\"v\": 444}, {\"v\": \"Water\"}]}, {\"c\": [{\"v\": \"Alex\"}, {\"v\": 222}, {\"v\": \"Milk 3%\"}]}, {\"c\": [{\"v\": \"Alberto\"}, {\"v\": null}, {\"v\": null}]}, {\"c\": [{\"v\": \"Maria\"}, {\"v\": null}, {\"v\": null}]}]},\n",
       "            {\n",
       "              pageSize: 25,\n",
       "              cssClassNames:  {\n",
       "                tableRow: 'gchart-table-row',\n",
       "                headerRow: 'gchart-table-headerrow',\n",
       "                oddTableRow: 'gchart-table-oddrow',\n",
       "                selectedTableRow: 'gchart-table-selectedrow',\n",
       "                hoverTableRow: 'gchart-table-hoverrow',\n",
       "                tableCell: 'gchart-table-cell',\n",
       "                headerCell: 'gchart-table-headercell',\n",
       "                rowNumberCell: 'gchart-table-rownumcell'\n",
       "              }\n",
       "            },\n",
       "            {source_index: 9, fields: 'CustomerName,ProductID,ProdcutName'},\n",
       "            0,\n",
       "            8);\n",
       "        }\n",
       "      );\n",
       "    </script>\n",
       "  "
      ]
     },
     "metadata": {},
     "execution_count": 17
    }
   ],
   "metadata": {}
  },
  {
   "cell_type": "code",
   "execution_count": 18,
   "source": [
    "# SOLUTION: Uncomment and execute the cell below to get help\r\n",
    "#disp(hint + '06-03-cust-union-trans-prod')"
   ],
   "outputs": [],
   "metadata": {}
  },
  {
   "cell_type": "markdown",
   "source": [
    "#### Step4\r\n",
    "Finally, with this table we can perform a GROUP BY and use `STRING_AGG()` to get to our answer.\r\n",
    "\r\n",
    "Hint: Use a subquery to make things easier to write and read."
   ],
   "metadata": {}
  },
  {
   "cell_type": "code",
   "execution_count": 85,
   "source": [
    "%%bigquery\r\n",
    "Select \r\n",
    "C.CustomerName, STRING_AGG(P.Name) from (SELECT CustomerID, CustomerName, Email, City, Age FROM `ba-770.public.customer_info` UNION DISTINCT Select CustomerID, CustomerName, Email, City, Age FROM `ba-770.public.customer_info_past`) C\r\n",
    "    LEFT JOIN `ba-770.public.transactions` T\r\n",
    "    ON C.CustomerID = T.CustomerID\r\n",
    "    LEFT JOIN `ba-770.public.product_info` P  \r\n",
    "    ON P.ID = T.ProductID\r\n",
    "Group by C.CustomerName"
   ],
   "outputs": [
    {
     "output_type": "stream",
     "name": "stderr",
     "text": [
      "Query complete after 0.00s: 100%|██████████| 5/5 [00:00<00:00, 1675.84query/s]\n",
      "Downloading: 100%|██████████| 6/6 [00:01<00:00,  3.92rows/s]\n"
     ]
    },
    {
     "output_type": "execute_result",
     "data": {
      "text/plain": [
       "  CustomerName                   f0_\n",
       "0      Alberto                  None\n",
       "1        Maria                  None\n",
       "2         John                 Water\n",
       "3         Mary  Milk 3%,Orange Juice\n",
       "4          Sue                 Water\n",
       "5         Alex         Water,Milk 3%"
      ],
      "text/html": [
       "<div>\n",
       "<style scoped>\n",
       "    .dataframe tbody tr th:only-of-type {\n",
       "        vertical-align: middle;\n",
       "    }\n",
       "\n",
       "    .dataframe tbody tr th {\n",
       "        vertical-align: top;\n",
       "    }\n",
       "\n",
       "    .dataframe thead th {\n",
       "        text-align: right;\n",
       "    }\n",
       "</style>\n",
       "<table border=\"1\" class=\"dataframe\">\n",
       "  <thead>\n",
       "    <tr style=\"text-align: right;\">\n",
       "      <th></th>\n",
       "      <th>CustomerName</th>\n",
       "      <th>f0_</th>\n",
       "    </tr>\n",
       "  </thead>\n",
       "  <tbody>\n",
       "    <tr>\n",
       "      <th>0</th>\n",
       "      <td>Alberto</td>\n",
       "      <td>None</td>\n",
       "    </tr>\n",
       "    <tr>\n",
       "      <th>1</th>\n",
       "      <td>Maria</td>\n",
       "      <td>None</td>\n",
       "    </tr>\n",
       "    <tr>\n",
       "      <th>2</th>\n",
       "      <td>John</td>\n",
       "      <td>Water</td>\n",
       "    </tr>\n",
       "    <tr>\n",
       "      <th>3</th>\n",
       "      <td>Mary</td>\n",
       "      <td>Milk 3%,Orange Juice</td>\n",
       "    </tr>\n",
       "    <tr>\n",
       "      <th>4</th>\n",
       "      <td>Sue</td>\n",
       "      <td>Water</td>\n",
       "    </tr>\n",
       "    <tr>\n",
       "      <th>5</th>\n",
       "      <td>Alex</td>\n",
       "      <td>Water,Milk 3%</td>\n",
       "    </tr>\n",
       "  </tbody>\n",
       "</table>\n",
       "</div>"
      ]
     },
     "metadata": {},
     "execution_count": 85
    }
   ],
   "metadata": {}
  },
  {
   "cell_type": "code",
   "execution_count": 19,
   "source": [
    "# Your answer goes here"
   ],
   "outputs": [
    {
     "output_type": "execute_result",
     "data": {
      "text/plain": [
       "QueryResultsTable job_wrtvJxpV1H0-otCYIye6YuVoiXyA"
      ],
      "text/html": [
       "\n",
       "    <div class=\"bqtv\" id=\"11_156556708995\"><table><tr><th>CustomerName</th><th>Products</th></tr><tr><td>Alberto</td><td>&nbsp;</td></tr><tr><td>Alex</td><td>Water,Milk 3%</td></tr><tr><td>John</td><td>Water</td></tr><tr><td>Maria</td><td>&nbsp;</td></tr><tr><td>Mary</td><td>Milk 3%,Orange Juice</td></tr><tr><td>Sue</td><td>Water</td></tr></table></div>\n",
       "    <br />(rows: 6, time: 1.1s,   474B processed, job: job_wrtvJxpV1H0-otCYIye6YuVoiXyA)<br />\n",
       "    <script src=\"/static/components/requirejs/require.js\"></script>\n",
       "    <script>\n",
       "      require.config({\n",
       "        paths: {\n",
       "          base: '/static/base',\n",
       "          d3: '//cdnjs.cloudflare.com/ajax/libs/d3/3.4.13/d3',\n",
       "          plotly: 'https://cdn.plot.ly/plotly-1.5.1.min.js?noext',\n",
       "          jquery: '//ajax.googleapis.com/ajax/libs/jquery/2.0.0/jquery.min'\n",
       "        },\n",
       "        map: {\n",
       "          '*': {\n",
       "            datalab: 'nbextensions/gcpdatalab'\n",
       "          }\n",
       "        },\n",
       "        shim: {\n",
       "          plotly: {\n",
       "            deps: ['d3', 'jquery'],\n",
       "            exports: 'plotly'\n",
       "          }\n",
       "        }\n",
       "      });\n",
       "\n",
       "      require(['datalab/charting', 'datalab/element!11_156556708995', 'base/js/events',\n",
       "          'datalab/style!/nbextensions/gcpdatalab/charting.css'],\n",
       "        function(charts, dom, events) {\n",
       "          charts.render('gcharts', dom, events, 'table', [], {\"cols\": [{\"type\": \"string\", \"id\": \"CustomerName\", \"label\": \"CustomerName\"}, {\"type\": \"string\", \"id\": \"Products\", \"label\": \"Products\"}], \"rows\": [{\"c\": [{\"v\": \"Alberto\"}, {\"v\": null}]}, {\"c\": [{\"v\": \"Alex\"}, {\"v\": \"Water,Milk 3%\"}]}, {\"c\": [{\"v\": \"John\"}, {\"v\": \"Water\"}]}, {\"c\": [{\"v\": \"Maria\"}, {\"v\": null}]}, {\"c\": [{\"v\": \"Mary\"}, {\"v\": \"Milk 3%,Orange Juice\"}]}, {\"c\": [{\"v\": \"Sue\"}, {\"v\": \"Water\"}]}]},\n",
       "            {\n",
       "              pageSize: 25,\n",
       "              cssClassNames:  {\n",
       "                tableRow: 'gchart-table-row',\n",
       "                headerRow: 'gchart-table-headerrow',\n",
       "                oddTableRow: 'gchart-table-oddrow',\n",
       "                selectedTableRow: 'gchart-table-selectedrow',\n",
       "                hoverTableRow: 'gchart-table-hoverrow',\n",
       "                tableCell: 'gchart-table-cell',\n",
       "                headerCell: 'gchart-table-headercell',\n",
       "                rowNumberCell: 'gchart-table-rownumcell'\n",
       "              }\n",
       "            },\n",
       "            {source_index: 10, fields: 'CustomerName,Products'},\n",
       "            0,\n",
       "            6);\n",
       "        }\n",
       "      );\n",
       "    </script>\n",
       "  "
      ]
     },
     "metadata": {},
     "execution_count": 19
    }
   ],
   "metadata": {}
  },
  {
   "cell_type": "code",
   "execution_count": 84,
   "source": [
    "# SOLUTION: Uncomment and execute the cell below to get help\r\n",
    "disp(hint + '06-03-cust-union-trans-prod-final')"
   ],
   "outputs": [
    {
     "output_type": "execute_result",
     "data": {
      "text/plain": [
       "%%bigquery\n",
       "SELECT CustomerName, STRING_AGG(DISTINCT ProdcutName) AS Products FROM\n",
       "(\n",
       "  SELECT A.CustomerName, B.ProductID, C.Name AS ProdcutName FROM\n",
       "  (\n",
       "    SELECT * FROM `ba-770.public.customer_info`\n",
       "    UNION DISTINCT\n",
       "    SELECT CustomerID, * EXCEPT(CustomerID) FROM `ba-770.public.customer_info_past`\n",
       "  ) A\n",
       "  LEFT JOIN `ba-770.public.transactions` B\n",
       "  ON A.CustomerID = B.CustomerID\n",
       "  LEFT JOIN `ba-770.public.product_info` C\n",
       "  ON B.ProductID = C.ID\n",
       ")\n",
       "GROUP BY CustomerName\n",
       "ORDER BY CustomerName\n"
      ]
     },
     "metadata": {},
     "execution_count": 84
    }
   ],
   "metadata": {}
  },
  {
   "cell_type": "markdown",
   "source": [
    "### Question 4\n",
    "Customers from which city have spent the most amount of money? What is their average age?\n",
    "\n",
    "1. Union the two customer tables\n",
    "2. Join it with transactions\n",
    "3. Join the result with the product table\n",
    "4. Aggregate over City"
   ],
   "metadata": {}
  },
  {
   "cell_type": "code",
   "execution_count": 80,
   "source": [
    "%%bigquery\r\n",
    "Select \r\n",
    "C.City, AVG(C.AGE), SUM(T.Quantity * P.Price) from (SELECT CustomerID, CustomerName, Email, City, Age FROM `ba-770.public.customer_info` UNION DISTINCT Select CustomerID, CustomerName, Email, City, Age FROM `ba-770.public.customer_info_past`) C\r\n",
    "    JOIN `ba-770.public.transactions` T\r\n",
    "    ON C.CustomerID = T.CustomerID\r\n",
    "    JOIN `ba-770.public.product_info` P  \r\n",
    "    ON P.ID = T.ProductID\r\n",
    "Group by C.City\r\n"
   ],
   "outputs": [
    {
     "output_type": "stream",
     "name": "stderr",
     "text": [
      "Query complete after 0.00s: 100%|██████████| 5/5 [00:00<00:00, 1671.70query/s]\n",
      "Downloading: 100%|██████████| 3/3 [00:01<00:00,  2.21rows/s]\n"
     ]
    },
    {
     "output_type": "execute_result",
     "data": {
      "text/plain": [
       "        City        f0_    f1_\n",
       "0     Boston  25.333333  14.41\n",
       "1    Allston  36.000000   0.99\n",
       "2  Brookline  21.000000   7.88"
      ],
      "text/html": [
       "<div>\n",
       "<style scoped>\n",
       "    .dataframe tbody tr th:only-of-type {\n",
       "        vertical-align: middle;\n",
       "    }\n",
       "\n",
       "    .dataframe tbody tr th {\n",
       "        vertical-align: top;\n",
       "    }\n",
       "\n",
       "    .dataframe thead th {\n",
       "        text-align: right;\n",
       "    }\n",
       "</style>\n",
       "<table border=\"1\" class=\"dataframe\">\n",
       "  <thead>\n",
       "    <tr style=\"text-align: right;\">\n",
       "      <th></th>\n",
       "      <th>City</th>\n",
       "      <th>f0_</th>\n",
       "      <th>f1_</th>\n",
       "    </tr>\n",
       "  </thead>\n",
       "  <tbody>\n",
       "    <tr>\n",
       "      <th>0</th>\n",
       "      <td>Boston</td>\n",
       "      <td>25.333333</td>\n",
       "      <td>14.41</td>\n",
       "    </tr>\n",
       "    <tr>\n",
       "      <th>1</th>\n",
       "      <td>Allston</td>\n",
       "      <td>36.000000</td>\n",
       "      <td>0.99</td>\n",
       "    </tr>\n",
       "    <tr>\n",
       "      <th>2</th>\n",
       "      <td>Brookline</td>\n",
       "      <td>21.000000</td>\n",
       "      <td>7.88</td>\n",
       "    </tr>\n",
       "  </tbody>\n",
       "</table>\n",
       "</div>"
      ]
     },
     "metadata": {},
     "execution_count": 80
    }
   ],
   "metadata": {}
  },
  {
   "cell_type": "code",
   "execution_count": 22,
   "source": [
    "# SOLUTION: Uncomment and execute the cell below to get help\r\n",
    "#disp(hint + '06-03-city-rev')"
   ],
   "outputs": [],
   "metadata": {}
  },
  {
   "cell_type": "markdown",
   "source": [
    "### Question 5\n",
    "Take the last query and\n",
    "1. print a rounded version of the AverageAge\n",
    "2. Print only the cities that have generated some revenue"
   ],
   "metadata": {}
  },
  {
   "cell_type": "code",
   "execution_count": 82,
   "source": [
    "%%bigquery\r\n",
    "Select \r\n",
    "C.City, ROUND(AVG(C.AGE)), SUM(T.Quantity * P.Price) from (SELECT CustomerID, CustomerName, Email, City, Age FROM `ba-770.public.customer_info` UNION DISTINCT Select CustomerID, CustomerName, Email, City, Age FROM `ba-770.public.customer_info_past`) C\r\n",
    "    JOIN `ba-770.public.transactions` T\r\n",
    "    ON C.CustomerID = T.CustomerID\r\n",
    "    JOIN `ba-770.public.product_info` P  \r\n",
    "    ON P.ID = T.ProductID\r\n",
    "Group by C.City"
   ],
   "outputs": [
    {
     "output_type": "stream",
     "name": "stderr",
     "text": [
      "Query complete after 0.00s: 100%|██████████| 6/6 [00:00<00:00, 3010.63query/s]\n",
      "Downloading: 100%|██████████| 3/3 [00:01<00:00,  2.11rows/s]\n"
     ]
    },
    {
     "output_type": "execute_result",
     "data": {
      "text/plain": [
       "        City   f0_    f1_\n",
       "0    Allston  36.0   0.99\n",
       "1     Boston  25.0  14.41\n",
       "2  Brookline  21.0   7.88"
      ],
      "text/html": [
       "<div>\n",
       "<style scoped>\n",
       "    .dataframe tbody tr th:only-of-type {\n",
       "        vertical-align: middle;\n",
       "    }\n",
       "\n",
       "    .dataframe tbody tr th {\n",
       "        vertical-align: top;\n",
       "    }\n",
       "\n",
       "    .dataframe thead th {\n",
       "        text-align: right;\n",
       "    }\n",
       "</style>\n",
       "<table border=\"1\" class=\"dataframe\">\n",
       "  <thead>\n",
       "    <tr style=\"text-align: right;\">\n",
       "      <th></th>\n",
       "      <th>City</th>\n",
       "      <th>f0_</th>\n",
       "      <th>f1_</th>\n",
       "    </tr>\n",
       "  </thead>\n",
       "  <tbody>\n",
       "    <tr>\n",
       "      <th>0</th>\n",
       "      <td>Allston</td>\n",
       "      <td>36.0</td>\n",
       "      <td>0.99</td>\n",
       "    </tr>\n",
       "    <tr>\n",
       "      <th>1</th>\n",
       "      <td>Boston</td>\n",
       "      <td>25.0</td>\n",
       "      <td>14.41</td>\n",
       "    </tr>\n",
       "    <tr>\n",
       "      <th>2</th>\n",
       "      <td>Brookline</td>\n",
       "      <td>21.0</td>\n",
       "      <td>7.88</td>\n",
       "    </tr>\n",
       "  </tbody>\n",
       "</table>\n",
       "</div>"
      ]
     },
     "metadata": {},
     "execution_count": 82
    }
   ],
   "metadata": {}
  },
  {
   "cell_type": "code",
   "execution_count": 24,
   "source": [
    "# SOLUTION: Uncomment and execute the cell below to get help\r\n",
    "#disp(hint + '06-03-city-rev-clean')"
   ],
   "outputs": [],
   "metadata": {}
  }
 ],
 "metadata": {
  "environment": {
   "name": "common-cpu.m56",
   "type": "gcloud",
   "uri": "gcr.io/deeplearning-platform-release/base-cpu:m56"
  },
  "kernelspec": {
   "name": "python3",
   "display_name": "Python 3.8.5 64-bit ('base': conda)"
  },
  "language_info": {
   "codemirror_mode": {
    "name": "ipython",
    "version": 3
   },
   "file_extension": ".py",
   "mimetype": "text/x-python",
   "name": "python",
   "nbconvert_exporter": "python",
   "pygments_lexer": "ipython3",
   "version": "3.8.5"
  },
  "interpreter": {
   "hash": "b3ba2566441a7c06988d0923437866b63cedc61552a5af99d1f4fb67d367b25f"
  }
 },
 "nbformat": 4,
 "nbformat_minor": 4
}