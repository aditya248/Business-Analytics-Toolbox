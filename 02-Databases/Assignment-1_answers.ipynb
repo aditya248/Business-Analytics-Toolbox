{
 "cells": [
  {
   "cell_type": "markdown",
   "metadata": {},
   "source": [
    "## Assignment 1 - BA775 (Fall 2020)\n",
    "Please note that this assignment captures topics from classes 2 & 3. You should run your queries in BigQuery or an AI Platform notebook and submit the answers along with your code in the Questrom Tools course site under \"tests & quizzes\" section."
   ]
  },
  {
   "cell_type": "markdown",
   "metadata": {},
   "source": [
    "### Question 1\n",
    "Using the following table (`bigquery-public-data.baseball.schedules`) which baseball game had the biggest attendance in 2016?"
   ]
  },
  {
   "cell_type": "code",
   "execution_count": 1,
   "metadata": {},
   "outputs": [
    {
     "name": "stderr",
     "output_type": "stream",
     "text": [
      "Query complete after 0.03s: 100%|██████████| 1/1 [00:00<00:00, 132.81query/s]                          \n",
      "Downloading: 100%|██████████| 5/5 [00:01<00:00,  2.59rows/s]\n"
     ]
    },
    {
     "data": {
      "text/html": [
       "<div>\n",
       "<style scoped>\n",
       "    .dataframe tbody tr th:only-of-type {\n",
       "        vertical-align: middle;\n",
       "    }\n",
       "\n",
       "    .dataframe tbody tr th {\n",
       "        vertical-align: top;\n",
       "    }\n",
       "\n",
       "    .dataframe thead th {\n",
       "        text-align: right;\n",
       "    }\n",
       "</style>\n",
       "<table border=\"1\" class=\"dataframe\">\n",
       "  <thead>\n",
       "    <tr style=\"text-align: right;\">\n",
       "      <th></th>\n",
       "      <th>gameId</th>\n",
       "      <th>gameNumber</th>\n",
       "      <th>seasonId</th>\n",
       "      <th>year</th>\n",
       "      <th>type</th>\n",
       "      <th>dayNight</th>\n",
       "      <th>duration</th>\n",
       "      <th>duration_minutes</th>\n",
       "      <th>homeTeamId</th>\n",
       "      <th>homeTeamName</th>\n",
       "      <th>awayTeamId</th>\n",
       "      <th>awayTeamName</th>\n",
       "      <th>startTime</th>\n",
       "      <th>attendance</th>\n",
       "      <th>status</th>\n",
       "      <th>created</th>\n",
       "    </tr>\n",
       "  </thead>\n",
       "  <tbody>\n",
       "    <tr>\n",
       "      <th>0</th>\n",
       "      <td>e14b6493-9e7f-404f-840a-8a680cc364bf</td>\n",
       "      <td>1</td>\n",
       "      <td>565de4be-dc80-4849-a7e1-54bc79156cc8</td>\n",
       "      <td>2016</td>\n",
       "      <td>REG</td>\n",
       "      <td>D</td>\n",
       "      <td>3:07</td>\n",
       "      <td>187</td>\n",
       "      <td>03556285-bdbb-4576-a06d-42f71f46ddc5</td>\n",
       "      <td>Marlins</td>\n",
       "      <td>55714da8-fcaf-4574-8443-59bfb511a524</td>\n",
       "      <td>Cubs</td>\n",
       "      <td>2016-06-26 17:10:00+00:00</td>\n",
       "      <td>27318</td>\n",
       "      <td>closed</td>\n",
       "      <td>2016-10-06 06:25:15+00:00</td>\n",
       "    </tr>\n",
       "    <tr>\n",
       "      <th>1</th>\n",
       "      <td>1f32b347-cbcb-4c31-a145-0e685306d168</td>\n",
       "      <td>1</td>\n",
       "      <td>565de4be-dc80-4849-a7e1-54bc79156cc8</td>\n",
       "      <td>2016</td>\n",
       "      <td>REG</td>\n",
       "      <td>D</td>\n",
       "      <td>3:09</td>\n",
       "      <td>189</td>\n",
       "      <td>03556285-bdbb-4576-a06d-42f71f46ddc5</td>\n",
       "      <td>Marlins</td>\n",
       "      <td>55714da8-fcaf-4574-8443-59bfb511a524</td>\n",
       "      <td>Cubs</td>\n",
       "      <td>2016-06-25 20:10:00+00:00</td>\n",
       "      <td>29457</td>\n",
       "      <td>closed</td>\n",
       "      <td>2016-10-06 06:25:15+00:00</td>\n",
       "    </tr>\n",
       "    <tr>\n",
       "      <th>2</th>\n",
       "      <td>0c2292d1-7398-48be-bf8e-b41dad5e1a43</td>\n",
       "      <td>1</td>\n",
       "      <td>565de4be-dc80-4849-a7e1-54bc79156cc8</td>\n",
       "      <td>2016</td>\n",
       "      <td>REG</td>\n",
       "      <td>D</td>\n",
       "      <td>2:45</td>\n",
       "      <td>165</td>\n",
       "      <td>12079497-e414-450a-8bf2-29f91de646bf</td>\n",
       "      <td>Braves</td>\n",
       "      <td>55714da8-fcaf-4574-8443-59bfb511a524</td>\n",
       "      <td>Cubs</td>\n",
       "      <td>2016-06-11 20:10:00+00:00</td>\n",
       "      <td>43114</td>\n",
       "      <td>closed</td>\n",
       "      <td>2016-10-06 06:25:15+00:00</td>\n",
       "    </tr>\n",
       "    <tr>\n",
       "      <th>3</th>\n",
       "      <td>8fbec734-a15a-42ab-8d51-60790de7750b</td>\n",
       "      <td>1</td>\n",
       "      <td>565de4be-dc80-4849-a7e1-54bc79156cc8</td>\n",
       "      <td>2016</td>\n",
       "      <td>REG</td>\n",
       "      <td>D</td>\n",
       "      <td>3:42</td>\n",
       "      <td>222</td>\n",
       "      <td>12079497-e414-450a-8bf2-29f91de646bf</td>\n",
       "      <td>Braves</td>\n",
       "      <td>55714da8-fcaf-4574-8443-59bfb511a524</td>\n",
       "      <td>Cubs</td>\n",
       "      <td>2016-06-12 17:35:00+00:00</td>\n",
       "      <td>31625</td>\n",
       "      <td>closed</td>\n",
       "      <td>2016-10-06 06:25:15+00:00</td>\n",
       "    </tr>\n",
       "    <tr>\n",
       "      <th>4</th>\n",
       "      <td>89e514d5-fbf5-4b9d-bdac-6ca45bfd18dd</td>\n",
       "      <td>1</td>\n",
       "      <td>565de4be-dc80-4849-a7e1-54bc79156cc8</td>\n",
       "      <td>2016</td>\n",
       "      <td>REG</td>\n",
       "      <td>D</td>\n",
       "      <td>2:44</td>\n",
       "      <td>164</td>\n",
       "      <td>2142e1ba-3b40-445c-b8bb-f1f8b1054220</td>\n",
       "      <td>Phillies</td>\n",
       "      <td>55714da8-fcaf-4574-8443-59bfb511a524</td>\n",
       "      <td>Cubs</td>\n",
       "      <td>2016-06-08 17:05:00+00:00</td>\n",
       "      <td>28650</td>\n",
       "      <td>closed</td>\n",
       "      <td>2016-10-06 06:25:15+00:00</td>\n",
       "    </tr>\n",
       "  </tbody>\n",
       "</table>\n",
       "</div>"
      ],
      "text/plain": [
       "                                 gameId  gameNumber  \\\n",
       "0  e14b6493-9e7f-404f-840a-8a680cc364bf           1   \n",
       "1  1f32b347-cbcb-4c31-a145-0e685306d168           1   \n",
       "2  0c2292d1-7398-48be-bf8e-b41dad5e1a43           1   \n",
       "3  8fbec734-a15a-42ab-8d51-60790de7750b           1   \n",
       "4  89e514d5-fbf5-4b9d-bdac-6ca45bfd18dd           1   \n",
       "\n",
       "                               seasonId  year type dayNight duration  \\\n",
       "0  565de4be-dc80-4849-a7e1-54bc79156cc8  2016  REG        D     3:07   \n",
       "1  565de4be-dc80-4849-a7e1-54bc79156cc8  2016  REG        D     3:09   \n",
       "2  565de4be-dc80-4849-a7e1-54bc79156cc8  2016  REG        D     2:45   \n",
       "3  565de4be-dc80-4849-a7e1-54bc79156cc8  2016  REG        D     3:42   \n",
       "4  565de4be-dc80-4849-a7e1-54bc79156cc8  2016  REG        D     2:44   \n",
       "\n",
       "   duration_minutes                            homeTeamId homeTeamName  \\\n",
       "0               187  03556285-bdbb-4576-a06d-42f71f46ddc5      Marlins   \n",
       "1               189  03556285-bdbb-4576-a06d-42f71f46ddc5      Marlins   \n",
       "2               165  12079497-e414-450a-8bf2-29f91de646bf       Braves   \n",
       "3               222  12079497-e414-450a-8bf2-29f91de646bf       Braves   \n",
       "4               164  2142e1ba-3b40-445c-b8bb-f1f8b1054220     Phillies   \n",
       "\n",
       "                             awayTeamId awayTeamName  \\\n",
       "0  55714da8-fcaf-4574-8443-59bfb511a524         Cubs   \n",
       "1  55714da8-fcaf-4574-8443-59bfb511a524         Cubs   \n",
       "2  55714da8-fcaf-4574-8443-59bfb511a524         Cubs   \n",
       "3  55714da8-fcaf-4574-8443-59bfb511a524         Cubs   \n",
       "4  55714da8-fcaf-4574-8443-59bfb511a524         Cubs   \n",
       "\n",
       "                  startTime  attendance  status                   created  \n",
       "0 2016-06-26 17:10:00+00:00       27318  closed 2016-10-06 06:25:15+00:00  \n",
       "1 2016-06-25 20:10:00+00:00       29457  closed 2016-10-06 06:25:15+00:00  \n",
       "2 2016-06-11 20:10:00+00:00       43114  closed 2016-10-06 06:25:15+00:00  \n",
       "3 2016-06-12 17:35:00+00:00       31625  closed 2016-10-06 06:25:15+00:00  \n",
       "4 2016-06-08 17:05:00+00:00       28650  closed 2016-10-06 06:25:15+00:00  "
      ]
     },
     "execution_count": 1,
     "metadata": {},
     "output_type": "execute_result"
    }
   ],
   "source": [
    "%%bigquery\n",
    "SELECT * FROM `bigquery-public-data.baseball.schedules` LIMIT 5"
   ]
  },
  {
   "cell_type": "code",
   "execution_count": 7,
   "metadata": {},
   "outputs": [
    {
     "name": "stderr",
     "output_type": "stream",
     "text": [
      "Query complete after 0.00s: 100%|██████████| 3/3 [00:00<00:00, 612.69query/s]                         \n",
      "Downloading: 100%|██████████| 1/1 [00:01<00:00,  1.41s/rows]\n"
     ]
    },
    {
     "data": {
      "text/html": [
       "<div>\n",
       "<style scoped>\n",
       "    .dataframe tbody tr th:only-of-type {\n",
       "        vertical-align: middle;\n",
       "    }\n",
       "\n",
       "    .dataframe tbody tr th {\n",
       "        vertical-align: top;\n",
       "    }\n",
       "\n",
       "    .dataframe thead th {\n",
       "        text-align: right;\n",
       "    }\n",
       "</style>\n",
       "<table border=\"1\" class=\"dataframe\">\n",
       "  <thead>\n",
       "    <tr style=\"text-align: right;\">\n",
       "      <th></th>\n",
       "      <th>homeTeamName</th>\n",
       "      <th>awayTeamName</th>\n",
       "    </tr>\n",
       "  </thead>\n",
       "  <tbody>\n",
       "    <tr>\n",
       "      <th>0</th>\n",
       "      <td>Dodgers</td>\n",
       "      <td>Giants</td>\n",
       "    </tr>\n",
       "  </tbody>\n",
       "</table>\n",
       "</div>"
      ],
      "text/plain": [
       "  homeTeamName awayTeamName\n",
       "0      Dodgers       Giants"
      ]
     },
     "execution_count": 7,
     "metadata": {},
     "output_type": "execute_result"
    }
   ],
   "source": [
    "%%bigquery\n",
    "SELECT homeTeamName, awayTeamName FROM `bigquery-public-data.baseball.schedules` WHERE attendance = (SELECT MAX(attendance) as max_attendance FROM `bigquery-public-data.baseball.schedules`) AND year=2016"
   ]
  },
  {
   "cell_type": "markdown",
   "metadata": {},
   "source": [
    "### Question 2\n",
    "In 2016, on average which team played the longest games at home?\n",
    "\n",
    "Hint: You will need to take the average of `duration_minutes` for each `homeTeamName`. This can be achieved by a `GROUP BY` and then an `ORDER BY`."
   ]
  },
  {
   "cell_type": "code",
   "execution_count": 10,
   "metadata": {},
   "outputs": [
    {
     "name": "stderr",
     "output_type": "stream",
     "text": [
      "Query complete after 0.00s: 100%|██████████| 3/3 [00:00<00:00, 973.53query/s]                         \n",
      "Downloading: 100%|██████████| 31/31 [00:01<00:00, 19.92rows/s]\n"
     ]
    },
    {
     "data": {
      "text/html": [
       "<div>\n",
       "<style scoped>\n",
       "    .dataframe tbody tr th:only-of-type {\n",
       "        vertical-align: middle;\n",
       "    }\n",
       "\n",
       "    .dataframe tbody tr th {\n",
       "        vertical-align: top;\n",
       "    }\n",
       "\n",
       "    .dataframe thead th {\n",
       "        text-align: right;\n",
       "    }\n",
       "</style>\n",
       "<table border=\"1\" class=\"dataframe\">\n",
       "  <thead>\n",
       "    <tr style=\"text-align: right;\">\n",
       "      <th></th>\n",
       "      <th>homeTeamName</th>\n",
       "      <th>avg_minutes</th>\n",
       "    </tr>\n",
       "  </thead>\n",
       "  <tbody>\n",
       "    <tr>\n",
       "      <th>0</th>\n",
       "      <td>Diamondbacks</td>\n",
       "      <td>197.111111</td>\n",
       "    </tr>\n",
       "    <tr>\n",
       "      <th>1</th>\n",
       "      <td>Red Sox</td>\n",
       "      <td>196.012346</td>\n",
       "    </tr>\n",
       "    <tr>\n",
       "      <th>2</th>\n",
       "      <td>Rockies</td>\n",
       "      <td>193.629630</td>\n",
       "    </tr>\n",
       "    <tr>\n",
       "      <th>3</th>\n",
       "      <td>Braves</td>\n",
       "      <td>192.185185</td>\n",
       "    </tr>\n",
       "    <tr>\n",
       "      <th>4</th>\n",
       "      <td>Mets</td>\n",
       "      <td>188.543210</td>\n",
       "    </tr>\n",
       "    <tr>\n",
       "      <th>5</th>\n",
       "      <td>Padres</td>\n",
       "      <td>188.444444</td>\n",
       "    </tr>\n",
       "    <tr>\n",
       "      <th>6</th>\n",
       "      <td>Pirates</td>\n",
       "      <td>188.160494</td>\n",
       "    </tr>\n",
       "    <tr>\n",
       "      <th>7</th>\n",
       "      <td>Brewers</td>\n",
       "      <td>187.913580</td>\n",
       "    </tr>\n",
       "    <tr>\n",
       "      <th>8</th>\n",
       "      <td>Nationals</td>\n",
       "      <td>187.864198</td>\n",
       "    </tr>\n",
       "    <tr>\n",
       "      <th>9</th>\n",
       "      <td>Giants</td>\n",
       "      <td>187.530864</td>\n",
       "    </tr>\n",
       "    <tr>\n",
       "      <th>10</th>\n",
       "      <td>Dodgers</td>\n",
       "      <td>186.049383</td>\n",
       "    </tr>\n",
       "    <tr>\n",
       "      <th>11</th>\n",
       "      <td>Astros</td>\n",
       "      <td>185.296296</td>\n",
       "    </tr>\n",
       "    <tr>\n",
       "      <th>12</th>\n",
       "      <td>American League</td>\n",
       "      <td>185.000000</td>\n",
       "    </tr>\n",
       "    <tr>\n",
       "      <th>13</th>\n",
       "      <td>Twins</td>\n",
       "      <td>184.592593</td>\n",
       "    </tr>\n",
       "    <tr>\n",
       "      <th>14</th>\n",
       "      <td>Reds</td>\n",
       "      <td>184.543210</td>\n",
       "    </tr>\n",
       "    <tr>\n",
       "      <th>15</th>\n",
       "      <td>Indians</td>\n",
       "      <td>183.728395</td>\n",
       "    </tr>\n",
       "    <tr>\n",
       "      <th>16</th>\n",
       "      <td>Cubs</td>\n",
       "      <td>183.691358</td>\n",
       "    </tr>\n",
       "    <tr>\n",
       "      <th>17</th>\n",
       "      <td>Rangers</td>\n",
       "      <td>183.209877</td>\n",
       "    </tr>\n",
       "    <tr>\n",
       "      <th>18</th>\n",
       "      <td>Royals</td>\n",
       "      <td>182.691358</td>\n",
       "    </tr>\n",
       "    <tr>\n",
       "      <th>19</th>\n",
       "      <td>Angels</td>\n",
       "      <td>182.604938</td>\n",
       "    </tr>\n",
       "    <tr>\n",
       "      <th>20</th>\n",
       "      <td>Phillies</td>\n",
       "      <td>182.543210</td>\n",
       "    </tr>\n",
       "    <tr>\n",
       "      <th>21</th>\n",
       "      <td>Yankees</td>\n",
       "      <td>182.382716</td>\n",
       "    </tr>\n",
       "    <tr>\n",
       "      <th>22</th>\n",
       "      <td>Mariners</td>\n",
       "      <td>181.913580</td>\n",
       "    </tr>\n",
       "    <tr>\n",
       "      <th>23</th>\n",
       "      <td>Rays</td>\n",
       "      <td>180.691358</td>\n",
       "    </tr>\n",
       "    <tr>\n",
       "      <th>24</th>\n",
       "      <td>Marlins</td>\n",
       "      <td>179.333333</td>\n",
       "    </tr>\n",
       "    <tr>\n",
       "      <th>25</th>\n",
       "      <td>White Sox</td>\n",
       "      <td>179.333333</td>\n",
       "    </tr>\n",
       "    <tr>\n",
       "      <th>26</th>\n",
       "      <td>Tigers</td>\n",
       "      <td>179.283951</td>\n",
       "    </tr>\n",
       "    <tr>\n",
       "      <th>27</th>\n",
       "      <td>Cardinals</td>\n",
       "      <td>179.222222</td>\n",
       "    </tr>\n",
       "    <tr>\n",
       "      <th>28</th>\n",
       "      <td>Orioles</td>\n",
       "      <td>178.654321</td>\n",
       "    </tr>\n",
       "    <tr>\n",
       "      <th>29</th>\n",
       "      <td>Blue Jays</td>\n",
       "      <td>178.641975</td>\n",
       "    </tr>\n",
       "    <tr>\n",
       "      <th>30</th>\n",
       "      <td>Athletics</td>\n",
       "      <td>173.962963</td>\n",
       "    </tr>\n",
       "  </tbody>\n",
       "</table>\n",
       "</div>"
      ],
      "text/plain": [
       "       homeTeamName  avg_minutes\n",
       "0      Diamondbacks   197.111111\n",
       "1           Red Sox   196.012346\n",
       "2           Rockies   193.629630\n",
       "3            Braves   192.185185\n",
       "4              Mets   188.543210\n",
       "5            Padres   188.444444\n",
       "6           Pirates   188.160494\n",
       "7           Brewers   187.913580\n",
       "8         Nationals   187.864198\n",
       "9            Giants   187.530864\n",
       "10          Dodgers   186.049383\n",
       "11           Astros   185.296296\n",
       "12  American League   185.000000\n",
       "13            Twins   184.592593\n",
       "14             Reds   184.543210\n",
       "15          Indians   183.728395\n",
       "16             Cubs   183.691358\n",
       "17          Rangers   183.209877\n",
       "18           Royals   182.691358\n",
       "19           Angels   182.604938\n",
       "20         Phillies   182.543210\n",
       "21          Yankees   182.382716\n",
       "22         Mariners   181.913580\n",
       "23             Rays   180.691358\n",
       "24          Marlins   179.333333\n",
       "25        White Sox   179.333333\n",
       "26           Tigers   179.283951\n",
       "27        Cardinals   179.222222\n",
       "28          Orioles   178.654321\n",
       "29        Blue Jays   178.641975\n",
       "30        Athletics   173.962963"
      ]
     },
     "execution_count": 10,
     "metadata": {},
     "output_type": "execute_result"
    }
   ],
   "source": [
    "%%bigquery\n",
    "SELECT homeTeamName, AVG(duration_minutes) AS avg_minutes FROM `bigquery-public-data.baseball.schedules` WHERE year=2016 GROUP BY homeTeamName ORDER BY AVG(duration_minutes) DESC"
   ]
  },
  {
   "cell_type": "markdown",
   "metadata": {},
   "source": [
    "---\n",
    "---\n",
    "### Question 3\n",
    "\n",
    "The remaining questions refer to table `bigquery-public-data.austin_bikeshare.bikeshare_trips`.\n",
    "\n",
    "How many distinct and valid station IDs are in this table? Valid station IDs are integer numbers.\n",
    "\n",
    "Note1: notice that we are looking for valid station IDs, meaning that any station ID that is missing (is null) should be excluded.\n",
    "\n",
    "Note2: the question doesn't specify `start_station_id` or `end_station_id` and is referring to all the station IDs. You would need to use a UNION to merge them all. \n",
    "\n",
    "Note3: `start_station_id` is listed as INT but `end_station_id` is STR. In order to do a UNION you must have all of the columns in the same format and same data type. Convert `start_station_id` to STR: I.e, `CAST(start_station_id AS STRING)`\n",
    "\n",
    "Hint: some records have `end_station_id` as `\"Event\"`. Since these do not qualify as a valid station ID we will have to exclude them."
   ]
  },
  {
   "cell_type": "code",
   "execution_count": 4,
   "metadata": {},
   "outputs": [
    {
     "data": {
      "text/html": [
       "<div>\n",
       "<style scoped>\n",
       "    .dataframe tbody tr th:only-of-type {\n",
       "        vertical-align: middle;\n",
       "    }\n",
       "\n",
       "    .dataframe tbody tr th {\n",
       "        vertical-align: top;\n",
       "    }\n",
       "\n",
       "    .dataframe thead th {\n",
       "        text-align: right;\n",
       "    }\n",
       "</style>\n",
       "<table border=\"1\" class=\"dataframe\">\n",
       "  <thead>\n",
       "    <tr style=\"text-align: right;\">\n",
       "      <th></th>\n",
       "      <th>trip_id</th>\n",
       "      <th>subscriber_type</th>\n",
       "      <th>bikeid</th>\n",
       "      <th>start_time</th>\n",
       "      <th>start_station_id</th>\n",
       "      <th>start_station_name</th>\n",
       "      <th>end_station_id</th>\n",
       "      <th>end_station_name</th>\n",
       "      <th>duration_minutes</th>\n",
       "    </tr>\n",
       "  </thead>\n",
       "  <tbody>\n",
       "    <tr>\n",
       "      <th>0</th>\n",
       "      <td>9900289692</td>\n",
       "      <td>Walk Up</td>\n",
       "      <td>248</td>\n",
       "      <td>2015-10-02 21:12:01+00:00</td>\n",
       "      <td>1006</td>\n",
       "      <td>Zilker Park West</td>\n",
       "      <td>1008</td>\n",
       "      <td>Nueces @ 3rd</td>\n",
       "      <td>39</td>\n",
       "    </tr>\n",
       "    <tr>\n",
       "      <th>1</th>\n",
       "      <td>9900285987</td>\n",
       "      <td>24-Hour Kiosk (Austin B-cycle)</td>\n",
       "      <td>446</td>\n",
       "      <td>2014-10-26 15:12:00+00:00</td>\n",
       "      <td>2712</td>\n",
       "      <td>Toomey Rd @ South Lamar</td>\n",
       "      <td>2712</td>\n",
       "      <td>Toomey Rd @ South Lamar</td>\n",
       "      <td>31</td>\n",
       "    </tr>\n",
       "    <tr>\n",
       "      <th>2</th>\n",
       "      <td>9900285989</td>\n",
       "      <td>24-Hour Kiosk (Austin B-cycle)</td>\n",
       "      <td>203</td>\n",
       "      <td>2014-10-26 15:12:00+00:00</td>\n",
       "      <td>2712</td>\n",
       "      <td>Toomey Rd @ South Lamar</td>\n",
       "      <td>2712</td>\n",
       "      <td>Toomey Rd @ South Lamar</td>\n",
       "      <td>31</td>\n",
       "    </tr>\n",
       "    <tr>\n",
       "      <th>3</th>\n",
       "      <td>9900285991</td>\n",
       "      <td>24-Hour Kiosk (Austin B-cycle)</td>\n",
       "      <td>101</td>\n",
       "      <td>2014-10-26 15:12:00+00:00</td>\n",
       "      <td>2712</td>\n",
       "      <td>Toomey Rd @ South Lamar</td>\n",
       "      <td>2712</td>\n",
       "      <td>Toomey Rd @ South Lamar</td>\n",
       "      <td>30</td>\n",
       "    </tr>\n",
       "    <tr>\n",
       "      <th>4</th>\n",
       "      <td>9900286140</td>\n",
       "      <td>24-Hour Kiosk (Austin B-cycle)</td>\n",
       "      <td>242</td>\n",
       "      <td>2014-10-26 18:12:00+00:00</td>\n",
       "      <td>2541</td>\n",
       "      <td>State Capitol @ 14th &amp; Colorado</td>\n",
       "      <td>2541</td>\n",
       "      <td>State Capitol @ 14th &amp; Colorado</td>\n",
       "      <td>19</td>\n",
       "    </tr>\n",
       "  </tbody>\n",
       "</table>\n",
       "</div>"
      ],
      "text/plain": [
       "      trip_id                 subscriber_type bikeid  \\\n",
       "0  9900289692                         Walk Up    248   \n",
       "1  9900285987  24-Hour Kiosk (Austin B-cycle)    446   \n",
       "2  9900285989  24-Hour Kiosk (Austin B-cycle)    203   \n",
       "3  9900285991  24-Hour Kiosk (Austin B-cycle)    101   \n",
       "4  9900286140  24-Hour Kiosk (Austin B-cycle)    242   \n",
       "\n",
       "                 start_time  start_station_id  \\\n",
       "0 2015-10-02 21:12:01+00:00              1006   \n",
       "1 2014-10-26 15:12:00+00:00              2712   \n",
       "2 2014-10-26 15:12:00+00:00              2712   \n",
       "3 2014-10-26 15:12:00+00:00              2712   \n",
       "4 2014-10-26 18:12:00+00:00              2541   \n",
       "\n",
       "                start_station_name end_station_id  \\\n",
       "0                 Zilker Park West           1008   \n",
       "1          Toomey Rd @ South Lamar           2712   \n",
       "2          Toomey Rd @ South Lamar           2712   \n",
       "3          Toomey Rd @ South Lamar           2712   \n",
       "4  State Capitol @ 14th & Colorado           2541   \n",
       "\n",
       "                  end_station_name  duration_minutes  \n",
       "0                     Nueces @ 3rd                39  \n",
       "1          Toomey Rd @ South Lamar                31  \n",
       "2          Toomey Rd @ South Lamar                31  \n",
       "3          Toomey Rd @ South Lamar                30  \n",
       "4  State Capitol @ 14th & Colorado                19  "
      ]
     },
     "execution_count": 4,
     "metadata": {},
     "output_type": "execute_result"
    }
   ],
   "source": [
    "%%bigquery\n",
    "SELECT * FROM `bigquery-public-data.austin_bikeshare.bikeshare_trips` LIMIT 5"
   ]
  },
  {
   "cell_type": "code",
   "execution_count": 41,
   "metadata": {},
   "outputs": [
    {
     "name": "stderr",
     "output_type": "stream",
     "text": [
      "Query complete after 0.00s: 100%|██████████| 5/5 [00:00<00:00, 1472.93query/s]                        \n",
      "Downloading: 100%|██████████| 1/1 [00:02<00:00,  2.09s/rows]\n"
     ]
    },
    {
     "data": {
      "text/html": [
       "<div>\n",
       "<style scoped>\n",
       "    .dataframe tbody tr th:only-of-type {\n",
       "        vertical-align: middle;\n",
       "    }\n",
       "\n",
       "    .dataframe tbody tr th {\n",
       "        vertical-align: top;\n",
       "    }\n",
       "\n",
       "    .dataframe thead th {\n",
       "        text-align: right;\n",
       "    }\n",
       "</style>\n",
       "<table border=\"1\" class=\"dataframe\">\n",
       "  <thead>\n",
       "    <tr style=\"text-align: right;\">\n",
       "      <th></th>\n",
       "      <th>Total_Stations</th>\n",
       "    </tr>\n",
       "  </thead>\n",
       "  <tbody>\n",
       "    <tr>\n",
       "      <th>0</th>\n",
       "      <td>98</td>\n",
       "    </tr>\n",
       "  </tbody>\n",
       "</table>\n",
       "</div>"
      ],
      "text/plain": [
       "   Total_Stations\n",
       "0              98"
      ]
     },
     "execution_count": 41,
     "metadata": {},
     "output_type": "execute_result"
    }
   ],
   "source": [
    "%%bigquery\n",
    "SELECT COUNT(DISTINCT station_id) AS Total_Stations FROM (\n",
    "SELECT DISTINCT CAST(start_station_id AS STRING) AS station_id FROM `bigquery-public-data.austin_bikeshare.bikeshare_trips` WHERE start_station_id IS NOT NULL\n",
    "UNION ALL\n",
    "SELECT DISTINCT end_station_id AS station_id FROM `bigquery-public-data.austin_bikeshare.bikeshare_trips` WHERE end_station_id IS NOT NULL AND end_station_id NOT like 'Event')"
   ]
  },
  {
   "cell_type": "markdown",
   "metadata": {},
   "source": [
    "### Question 4\n",
    "Which station has the highest number of trips that start from and end at that station?"
   ]
  },
  {
   "cell_type": "code",
   "execution_count": 51,
   "metadata": {},
   "outputs": [
    {
     "name": "stderr",
     "output_type": "stream",
     "text": [
      "Query complete after 0.00s: 100%|██████████| 1/1 [00:00<00:00, 443.89query/s] \n",
      "Downloading: 100%|██████████| 1/1 [00:01<00:00,  1.52s/rows]\n"
     ]
    },
    {
     "data": {
      "text/html": [
       "<div>\n",
       "<style scoped>\n",
       "    .dataframe tbody tr th:only-of-type {\n",
       "        vertical-align: middle;\n",
       "    }\n",
       "\n",
       "    .dataframe tbody tr th {\n",
       "        vertical-align: top;\n",
       "    }\n",
       "\n",
       "    .dataframe thead th {\n",
       "        text-align: right;\n",
       "    }\n",
       "</style>\n",
       "<table border=\"1\" class=\"dataframe\">\n",
       "  <thead>\n",
       "    <tr style=\"text-align: right;\">\n",
       "      <th></th>\n",
       "      <th>end_station_id</th>\n",
       "      <th>trips</th>\n",
       "    </tr>\n",
       "  </thead>\n",
       "  <tbody>\n",
       "    <tr>\n",
       "      <th>0</th>\n",
       "      <td>2575</td>\n",
       "      <td>14560</td>\n",
       "    </tr>\n",
       "  </tbody>\n",
       "</table>\n",
       "</div>"
      ],
      "text/plain": [
       "  end_station_id  trips\n",
       "0           2575  14560"
      ]
     },
     "execution_count": 51,
     "metadata": {},
     "output_type": "execute_result"
    }
   ],
   "source": [
    "%%bigquery\n",
    "SELECT end_station_id, COUNT(*) AS trips FROM `bigquery-public-data.austin_bikeshare.bikeshare_trips` WHERE CAST(start_station_id AS STRING) = end_station_id GROUP BY end_station_id Order BY trips desc LIMIT 1"
   ]
  },
  {
   "cell_type": "markdown",
   "metadata": {},
   "source": [
    "### Question 5\n",
    "Which station is the most popular destination?"
   ]
  },
  {
   "cell_type": "code",
   "execution_count": 61,
   "metadata": {},
   "outputs": [
    {
     "name": "stderr",
     "output_type": "stream",
     "text": [
      "Query complete after 0.00s: 100%|██████████| 1/1 [00:00<00:00, 993.91query/s] \n",
      "Downloading: 100%|██████████| 1/1 [00:01<00:00,  1.39s/rows]\n"
     ]
    },
    {
     "data": {
      "text/html": [
       "<div>\n",
       "<style scoped>\n",
       "    .dataframe tbody tr th:only-of-type {\n",
       "        vertical-align: middle;\n",
       "    }\n",
       "\n",
       "    .dataframe tbody tr th {\n",
       "        vertical-align: top;\n",
       "    }\n",
       "\n",
       "    .dataframe thead th {\n",
       "        text-align: right;\n",
       "    }\n",
       "</style>\n",
       "<table border=\"1\" class=\"dataframe\">\n",
       "  <thead>\n",
       "    <tr style=\"text-align: right;\">\n",
       "      <th></th>\n",
       "      <th>end_station_id</th>\n",
       "      <th>destination_count</th>\n",
       "    </tr>\n",
       "  </thead>\n",
       "  <tbody>\n",
       "    <tr>\n",
       "      <th>0</th>\n",
       "      <td>3798</td>\n",
       "      <td>83092</td>\n",
       "    </tr>\n",
       "  </tbody>\n",
       "</table>\n",
       "</div>"
      ],
      "text/plain": [
       "  end_station_id  destination_count\n",
       "0           3798              83092"
      ]
     },
     "execution_count": 61,
     "metadata": {},
     "output_type": "execute_result"
    }
   ],
   "source": [
    "%%bigquery\n",
    "SELECT end_station_id, COUNT(*) AS destination_count FROM `bigquery-public-data.austin_bikeshare.bikeshare_trips` GROUP BY end_station_id Order BY destination_count desc LIMIT 1"
   ]
  },
  {
   "cell_type": "markdown",
   "metadata": {},
   "source": [
    "### Question 6\n",
    "How many different types of subscribers appear in this dataset?"
   ]
  },
  {
   "cell_type": "code",
   "execution_count": 65,
   "metadata": {},
   "outputs": [
    {
     "name": "stderr",
     "output_type": "stream",
     "text": [
      "Query complete after 0.00s: 100%|██████████| 3/3 [00:00<00:00, 755.10query/s]                         \n",
      "Downloading: 100%|██████████| 1/1 [00:01<00:00,  1.43s/rows]\n"
     ]
    },
    {
     "data": {
      "text/html": [
       "<div>\n",
       "<style scoped>\n",
       "    .dataframe tbody tr th:only-of-type {\n",
       "        vertical-align: middle;\n",
       "    }\n",
       "\n",
       "    .dataframe tbody tr th {\n",
       "        vertical-align: top;\n",
       "    }\n",
       "\n",
       "    .dataframe thead th {\n",
       "        text-align: right;\n",
       "    }\n",
       "</style>\n",
       "<table border=\"1\" class=\"dataframe\">\n",
       "  <thead>\n",
       "    <tr style=\"text-align: right;\">\n",
       "      <th></th>\n",
       "      <th>f0_</th>\n",
       "    </tr>\n",
       "  </thead>\n",
       "  <tbody>\n",
       "    <tr>\n",
       "      <th>0</th>\n",
       "      <td>78</td>\n",
       "    </tr>\n",
       "  </tbody>\n",
       "</table>\n",
       "</div>"
      ],
      "text/plain": [
       "   f0_\n",
       "0   78"
      ]
     },
     "execution_count": 65,
     "metadata": {},
     "output_type": "execute_result"
    }
   ],
   "source": [
    "%%bigquery\n",
    "select COUNT(DISTINCT subscriber_type) FROM `bigquery-public-data.austin_bikeshare.bikeshare_trips` where subscriber_type IS NOT NULL"
   ]
  },
  {
   "cell_type": "markdown",
   "metadata": {},
   "source": [
    "### Question 7\n",
    "Which one is by far the most popular subscriber plan?"
   ]
  },
  {
   "cell_type": "code",
   "execution_count": 66,
   "metadata": {},
   "outputs": [
    {
     "name": "stderr",
     "output_type": "stream",
     "text": [
      "Query complete after 0.01s: 100%|██████████| 3/3 [00:00<00:00, 655.63query/s]                         \n",
      "Downloading: 100%|██████████| 1/1 [00:01<00:00,  1.48s/rows]\n"
     ]
    },
    {
     "data": {
      "text/html": [
       "<div>\n",
       "<style scoped>\n",
       "    .dataframe tbody tr th:only-of-type {\n",
       "        vertical-align: middle;\n",
       "    }\n",
       "\n",
       "    .dataframe tbody tr th {\n",
       "        vertical-align: top;\n",
       "    }\n",
       "\n",
       "    .dataframe thead th {\n",
       "        text-align: right;\n",
       "    }\n",
       "</style>\n",
       "<table border=\"1\" class=\"dataframe\">\n",
       "  <thead>\n",
       "    <tr style=\"text-align: right;\">\n",
       "      <th></th>\n",
       "      <th>subscriber_type</th>\n",
       "      <th>subscriber_type_count</th>\n",
       "    </tr>\n",
       "  </thead>\n",
       "  <tbody>\n",
       "    <tr>\n",
       "      <th>0</th>\n",
       "      <td>Walk Up</td>\n",
       "      <td>374151</td>\n",
       "    </tr>\n",
       "  </tbody>\n",
       "</table>\n",
       "</div>"
      ],
      "text/plain": [
       "  subscriber_type  subscriber_type_count\n",
       "0         Walk Up                 374151"
      ]
     },
     "execution_count": 66,
     "metadata": {},
     "output_type": "execute_result"
    }
   ],
   "source": [
    "%%bigquery\n",
    "SELECT subscriber_type, COUNT(*) AS subscriber_type_count FROM `bigquery-public-data.austin_bikeshare.bikeshare_trips` GROUP BY subscriber_type Order BY subscriber_type_count desc LIMIT 1"
   ]
  },
  {
   "cell_type": "markdown",
   "metadata": {},
   "source": [
    "### Question 8\n",
    "How many bike rides are in this dataset?"
   ]
  },
  {
   "cell_type": "code",
   "execution_count": 67,
   "metadata": {},
   "outputs": [
    {
     "name": "stderr",
     "output_type": "stream",
     "text": [
      "Query complete after 0.00s: 100%|██████████| 2/2 [00:00<00:00, 550.47query/s]                         \n",
      "Downloading: 100%|██████████| 1/1 [00:01<00:00,  1.53s/rows]\n"
     ]
    },
    {
     "data": {
      "text/html": [
       "<div>\n",
       "<style scoped>\n",
       "    .dataframe tbody tr th:only-of-type {\n",
       "        vertical-align: middle;\n",
       "    }\n",
       "\n",
       "    .dataframe tbody tr th {\n",
       "        vertical-align: top;\n",
       "    }\n",
       "\n",
       "    .dataframe thead th {\n",
       "        text-align: right;\n",
       "    }\n",
       "</style>\n",
       "<table border=\"1\" class=\"dataframe\">\n",
       "  <thead>\n",
       "    <tr style=\"text-align: right;\">\n",
       "      <th></th>\n",
       "      <th>f0_</th>\n",
       "    </tr>\n",
       "  </thead>\n",
       "  <tbody>\n",
       "    <tr>\n",
       "      <th>0</th>\n",
       "      <td>1342066</td>\n",
       "    </tr>\n",
       "  </tbody>\n",
       "</table>\n",
       "</div>"
      ],
      "text/plain": [
       "       f0_\n",
       "0  1342066"
      ]
     },
     "execution_count": 67,
     "metadata": {},
     "output_type": "execute_result"
    }
   ],
   "source": [
    "%%bigquery\n",
    "SELECT COUNT(*) FROM `bigquery-public-data.austin_bikeshare.bikeshare_trips`"
   ]
  },
  {
   "cell_type": "markdown",
   "metadata": {},
   "source": [
    "### Question 9\n",
    "Which month was the busiest month in 2019?\n",
    "\n",
    "Hint: Use the EXTRACT function to extract the date components. For more documentation go to the documentation: https://cloud.google.com/bigquery/docs/reference/standard-sql/date_functions"
   ]
  },
  {
   "cell_type": "code",
   "execution_count": 69,
   "metadata": {},
   "outputs": [
    {
     "name": "stderr",
     "output_type": "stream",
     "text": [
      "Query complete after 0.00s: 100%|██████████| 3/3 [00:00<00:00, 780.29query/s]                         \n",
      "Downloading: 100%|██████████| 1/1 [00:01<00:00,  1.32s/rows]\n"
     ]
    },
    {
     "data": {
      "text/html": [
       "<div>\n",
       "<style scoped>\n",
       "    .dataframe tbody tr th:only-of-type {\n",
       "        vertical-align: middle;\n",
       "    }\n",
       "\n",
       "    .dataframe tbody tr th {\n",
       "        vertical-align: top;\n",
       "    }\n",
       "\n",
       "    .dataframe thead th {\n",
       "        text-align: right;\n",
       "    }\n",
       "</style>\n",
       "<table border=\"1\" class=\"dataframe\">\n",
       "  <thead>\n",
       "    <tr style=\"text-align: right;\">\n",
       "      <th></th>\n",
       "      <th>month</th>\n",
       "      <th>ride_count</th>\n",
       "    </tr>\n",
       "  </thead>\n",
       "  <tbody>\n",
       "    <tr>\n",
       "      <th>0</th>\n",
       "      <td>3</td>\n",
       "      <td>15939</td>\n",
       "    </tr>\n",
       "  </tbody>\n",
       "</table>\n",
       "</div>"
      ],
      "text/plain": [
       "   month  ride_count\n",
       "0      3       15939"
      ]
     },
     "execution_count": 69,
     "metadata": {},
     "output_type": "execute_result"
    }
   ],
   "source": [
    "%%bigquery\n",
    "SELECT EXTRACT(MONTH FROM start_time) AS month, Count(*) as ride_count FROM `bigquery-public-data.austin_bikeshare.bikeshare_trips` where EXTRACT(ISOYEAR FROM start_time) = 2019 group by month order by ride_count desc limit 1"
   ]
  },
  {
   "cell_type": "code",
   "execution_count": null,
   "metadata": {},
   "outputs": [],
   "source": []
  }
 ],
 "metadata": {
  "environment": {
   "name": "common-cpu.m76",
   "type": "gcloud",
   "uri": "gcr.io/deeplearning-platform-release/base-cpu:m76"
  },
  "kernelspec": {
   "display_name": "Python 3",
   "language": "python",
   "name": "python3"
  },
  "language_info": {
   "codemirror_mode": {
    "name": "ipython",
    "version": 3
   },
   "file_extension": ".py",
   "mimetype": "text/x-python",
   "name": "python",
   "nbconvert_exporter": "python",
   "pygments_lexer": "ipython3",
   "version": "3.7.10"
  }
 },
 "nbformat": 4,
 "nbformat_minor": 4
}
